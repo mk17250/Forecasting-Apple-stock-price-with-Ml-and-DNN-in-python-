{
  "nbformat": 4,
  "nbformat_minor": 0,
  "metadata": {
    "colab": {
      "name": "CF969 Coursework.ipynb",
      "provenance": [],
      "collapsed_sections": [
        "NUqQAMjPAkTg"
      ]
    },
    "kernelspec": {
      "name": "python3",
      "display_name": "Python 3"
    },
    "language_info": {
      "name": "python"
    },
    "accelerator": "GPU"
  },
  "cells": [
    {
      "cell_type": "markdown",
      "metadata": {
        "id": "J11M-BL9MMTH"
      },
      "source": [
        "# This body of work will use Machine Learning techniques to forecast stock returns."
      ]
    },
    {
      "cell_type": "markdown",
      "metadata": {
        "id": "WouT7myhE4xg"
      },
      "source": [
        "###I will use Machine Learning models to forecast Apples share price movments by creating a binary classification problem. I will take the log returns for the share price over the sample period, before changing postive and negative daily prices moves to 1 and 0 respectively. I will then use a range of ML modesl to assess their ability at capturing the price movements of the test data. Before attempting to forecast 5 days into the future with the best performing model. I will then repeat this process on a Deep Neural Network. "
      ]
    },
    {
      "cell_type": "code",
      "metadata": {
        "id": "qv_1keT1MYrL"
      },
      "source": [
        "#import libraries \n",
        "%matplotlib inline\n",
        "import matplotlib\n",
        "import numpy as np\n",
        "import matplotlib.pyplot as plt\n",
        "import pandas_profiling\n",
        "import pandas as pd\n",
        "import seaborn as sns\n",
        "import itertools\n",
        "import sklearn\n",
        " \n",
        "from sklearn.linear_model import LogisticRegression\n",
        "from sklearn.neighbors import KNeighborsClassifier\n",
        "from sklearn.svm import SVC\n",
        "from sklearn.tree import DecisionTreeClassifier\n",
        "from sklearn.ensemble import RandomForestClassifier\n",
        "from sklearn.ensemble import GradientBoostingClassifier\n",
        "from sklearn import metrics\n",
        "from sklearn.tree import DecisionTreeRegressor\n",
        "from sklearn.model_selection import cross_val_score\n",
        "from sklearn import metrics\n",
        "from sklearn.metrics import accuracy_score \n",
        "from sklearn.metrics import make_scorer, confusion_matrix\n",
        "from sklearn.dummy import DummyRegressor, DummyClassifier\n",
        "from sklearn.preprocessing import LabelEncoder\n",
        "import tensorflow as tf\n",
        "from tensorflow import keras\n",
        "from tensorflow.keras import layers\n",
        "from tensorflow.keras.layers import Activation, Dense\n",
        "import warnings\n",
        "warnings.filterwarnings('ignore')"
      ],
      "execution_count": 115,
      "outputs": []
    },
    {
      "cell_type": "code",
      "metadata": {
        "id": "fgK4IZLxEMUJ"
      },
      "source": [
        "# link to yahoo finance for Apple historical data - 03/01/2000 - 23/04/2021\n",
        "# https://uk.finance.yahoo.com/quote/AAPL/history?p=AAPL"
      ],
      "execution_count": 116,
      "outputs": []
    },
    {
      "cell_type": "code",
      "metadata": {
        "colab": {
          "resources": {
            "http://localhost:8080/nbextensions/google.colab/files.js": {
              "data": "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",
              "ok": true,
              "headers": [
                [
                  "content-type",
                  "application/javascript"
                ]
              ],
              "status": 200,
              "status_text": ""
            }
          },
          "base_uri": "https://localhost:8080/",
          "height": 72
        },
        "id": "4rYS1WgWN-6O",
        "outputId": "3daadd01-b93f-499c-8562-55b965bcfb6c"
      },
      "source": [
        "#import file (data is downloaded from yahoo finance website, it is daily data for apple stock from 03/01/2000 until the day this piece is produced.)\n",
        "from google.colab import files\n",
        "uploaded = files.upload()"
      ],
      "execution_count": 117,
      "outputs": [
        {
          "output_type": "display_data",
          "data": {
            "text/html": [
              "\n",
              "     <input type=\"file\" id=\"files-df5bfce3-2140-4a0a-a33b-cc121ff55e84\" name=\"files[]\" multiple disabled\n",
              "        style=\"border:none\" />\n",
              "     <output id=\"result-df5bfce3-2140-4a0a-a33b-cc121ff55e84\">\n",
              "      Upload widget is only available when the cell has been executed in the\n",
              "      current browser session. Please rerun this cell to enable.\n",
              "      </output>\n",
              "      <script src=\"/nbextensions/google.colab/files.js\"></script> "
            ],
            "text/plain": [
              "<IPython.core.display.HTML object>"
            ]
          },
          "metadata": {
            "tags": []
          }
        },
        {
          "output_type": "stream",
          "text": [
            "Saving AAPL (3).csv to AAPL (3) (2).csv\n"
          ],
          "name": "stdout"
        }
      ]
    },
    {
      "cell_type": "code",
      "metadata": {
        "colab": {
          "base_uri": "https://localhost:8080/",
          "height": 359
        },
        "id": "t_7dULE7OYWM",
        "outputId": "6d6de647-2c2f-42b7-e0b7-598bf1bcf1d2"
      },
      "source": [
        "#import data (Apple daily stocks returns for yahoo finance)\n",
        "df = pd.read_csv('/content/AAPL (3).csv')\n",
        "df.head(n=10)"
      ],
      "execution_count": 119,
      "outputs": [
        {
          "output_type": "execute_result",
          "data": {
            "text/html": [
              "<div>\n",
              "<style scoped>\n",
              "    .dataframe tbody tr th:only-of-type {\n",
              "        vertical-align: middle;\n",
              "    }\n",
              "\n",
              "    .dataframe tbody tr th {\n",
              "        vertical-align: top;\n",
              "    }\n",
              "\n",
              "    .dataframe thead th {\n",
              "        text-align: right;\n",
              "    }\n",
              "</style>\n",
              "<table border=\"1\" class=\"dataframe\">\n",
              "  <thead>\n",
              "    <tr style=\"text-align: right;\">\n",
              "      <th></th>\n",
              "      <th>Date</th>\n",
              "      <th>Open</th>\n",
              "      <th>High</th>\n",
              "      <th>Low</th>\n",
              "      <th>Close</th>\n",
              "      <th>Adj Close</th>\n",
              "      <th>Volume</th>\n",
              "    </tr>\n",
              "  </thead>\n",
              "  <tbody>\n",
              "    <tr>\n",
              "      <th>0</th>\n",
              "      <td>2000-01-03</td>\n",
              "      <td>0.936384</td>\n",
              "      <td>1.004464</td>\n",
              "      <td>0.907924</td>\n",
              "      <td>0.999442</td>\n",
              "      <td>0.860883</td>\n",
              "      <td>535796800</td>\n",
              "    </tr>\n",
              "    <tr>\n",
              "      <th>1</th>\n",
              "      <td>2000-01-04</td>\n",
              "      <td>0.966518</td>\n",
              "      <td>0.987723</td>\n",
              "      <td>0.903460</td>\n",
              "      <td>0.915179</td>\n",
              "      <td>0.788302</td>\n",
              "      <td>512377600</td>\n",
              "    </tr>\n",
              "    <tr>\n",
              "      <th>2</th>\n",
              "      <td>2000-01-05</td>\n",
              "      <td>0.926339</td>\n",
              "      <td>0.987165</td>\n",
              "      <td>0.919643</td>\n",
              "      <td>0.928571</td>\n",
              "      <td>0.799837</td>\n",
              "      <td>778321600</td>\n",
              "    </tr>\n",
              "    <tr>\n",
              "      <th>3</th>\n",
              "      <td>2000-01-06</td>\n",
              "      <td>0.947545</td>\n",
              "      <td>0.955357</td>\n",
              "      <td>0.848214</td>\n",
              "      <td>0.848214</td>\n",
              "      <td>0.730621</td>\n",
              "      <td>767972800</td>\n",
              "    </tr>\n",
              "    <tr>\n",
              "      <th>4</th>\n",
              "      <td>2000-01-07</td>\n",
              "      <td>0.861607</td>\n",
              "      <td>0.901786</td>\n",
              "      <td>0.852679</td>\n",
              "      <td>0.888393</td>\n",
              "      <td>0.765229</td>\n",
              "      <td>460734400</td>\n",
              "    </tr>\n",
              "    <tr>\n",
              "      <th>5</th>\n",
              "      <td>2000-01-10</td>\n",
              "      <td>0.910714</td>\n",
              "      <td>0.912946</td>\n",
              "      <td>0.845982</td>\n",
              "      <td>0.872768</td>\n",
              "      <td>0.751771</td>\n",
              "      <td>505064000</td>\n",
              "    </tr>\n",
              "    <tr>\n",
              "      <th>6</th>\n",
              "      <td>2000-01-11</td>\n",
              "      <td>0.856585</td>\n",
              "      <td>0.887277</td>\n",
              "      <td>0.808036</td>\n",
              "      <td>0.828125</td>\n",
              "      <td>0.713317</td>\n",
              "      <td>441548800</td>\n",
              "    </tr>\n",
              "    <tr>\n",
              "      <th>7</th>\n",
              "      <td>2000-01-12</td>\n",
              "      <td>0.848214</td>\n",
              "      <td>0.852679</td>\n",
              "      <td>0.772321</td>\n",
              "      <td>0.778460</td>\n",
              "      <td>0.670537</td>\n",
              "      <td>976068800</td>\n",
              "    </tr>\n",
              "    <tr>\n",
              "      <th>8</th>\n",
              "      <td>2000-01-13</td>\n",
              "      <td>0.843610</td>\n",
              "      <td>0.881696</td>\n",
              "      <td>0.825893</td>\n",
              "      <td>0.863839</td>\n",
              "      <td>0.744079</td>\n",
              "      <td>1032684800</td>\n",
              "    </tr>\n",
              "    <tr>\n",
              "      <th>9</th>\n",
              "      <td>2000-01-14</td>\n",
              "      <td>0.892857</td>\n",
              "      <td>0.912946</td>\n",
              "      <td>0.887277</td>\n",
              "      <td>0.896763</td>\n",
              "      <td>0.772439</td>\n",
              "      <td>390376000</td>\n",
              "    </tr>\n",
              "  </tbody>\n",
              "</table>\n",
              "</div>"
            ],
            "text/plain": [
              "         Date      Open      High       Low     Close  Adj Close      Volume\n",
              "0  2000-01-03  0.936384  1.004464  0.907924  0.999442   0.860883   535796800\n",
              "1  2000-01-04  0.966518  0.987723  0.903460  0.915179   0.788302   512377600\n",
              "2  2000-01-05  0.926339  0.987165  0.919643  0.928571   0.799837   778321600\n",
              "3  2000-01-06  0.947545  0.955357  0.848214  0.848214   0.730621   767972800\n",
              "4  2000-01-07  0.861607  0.901786  0.852679  0.888393   0.765229   460734400\n",
              "5  2000-01-10  0.910714  0.912946  0.845982  0.872768   0.751771   505064000\n",
              "6  2000-01-11  0.856585  0.887277  0.808036  0.828125   0.713317   441548800\n",
              "7  2000-01-12  0.848214  0.852679  0.772321  0.778460   0.670537   976068800\n",
              "8  2000-01-13  0.843610  0.881696  0.825893  0.863839   0.744079  1032684800\n",
              "9  2000-01-14  0.892857  0.912946  0.887277  0.896763   0.772439   390376000"
            ]
          },
          "metadata": {
            "tags": []
          },
          "execution_count": 119
        }
      ]
    },
    {
      "cell_type": "code",
      "metadata": {
        "colab": {
          "base_uri": "https://localhost:8080/",
          "height": 419
        },
        "id": "3GE3IUJ_ImwN",
        "outputId": "ceed32ad-bee8-42be-e514-27b9e980dc25"
      },
      "source": [
        "#add column of log returns for Apple stock using closing prices \n",
        "df['log return'] = np.log(df.Close) - np.log(df.Close.shift(1))\n",
        "df"
      ],
      "execution_count": 120,
      "outputs": [
        {
          "output_type": "execute_result",
          "data": {
            "text/html": [
              "<div>\n",
              "<style scoped>\n",
              "    .dataframe tbody tr th:only-of-type {\n",
              "        vertical-align: middle;\n",
              "    }\n",
              "\n",
              "    .dataframe tbody tr th {\n",
              "        vertical-align: top;\n",
              "    }\n",
              "\n",
              "    .dataframe thead th {\n",
              "        text-align: right;\n",
              "    }\n",
              "</style>\n",
              "<table border=\"1\" class=\"dataframe\">\n",
              "  <thead>\n",
              "    <tr style=\"text-align: right;\">\n",
              "      <th></th>\n",
              "      <th>Date</th>\n",
              "      <th>Open</th>\n",
              "      <th>High</th>\n",
              "      <th>Low</th>\n",
              "      <th>Close</th>\n",
              "      <th>Adj Close</th>\n",
              "      <th>Volume</th>\n",
              "      <th>log return</th>\n",
              "    </tr>\n",
              "  </thead>\n",
              "  <tbody>\n",
              "    <tr>\n",
              "      <th>0</th>\n",
              "      <td>2000-01-03</td>\n",
              "      <td>0.936384</td>\n",
              "      <td>1.004464</td>\n",
              "      <td>0.907924</td>\n",
              "      <td>0.999442</td>\n",
              "      <td>0.860883</td>\n",
              "      <td>535796800</td>\n",
              "      <td>NaN</td>\n",
              "    </tr>\n",
              "    <tr>\n",
              "      <th>1</th>\n",
              "      <td>2000-01-04</td>\n",
              "      <td>0.966518</td>\n",
              "      <td>0.987723</td>\n",
              "      <td>0.903460</td>\n",
              "      <td>0.915179</td>\n",
              "      <td>0.788302</td>\n",
              "      <td>512377600</td>\n",
              "      <td>-0.088077</td>\n",
              "    </tr>\n",
              "    <tr>\n",
              "      <th>2</th>\n",
              "      <td>2000-01-05</td>\n",
              "      <td>0.926339</td>\n",
              "      <td>0.987165</td>\n",
              "      <td>0.919643</td>\n",
              "      <td>0.928571</td>\n",
              "      <td>0.799837</td>\n",
              "      <td>778321600</td>\n",
              "      <td>0.014527</td>\n",
              "    </tr>\n",
              "    <tr>\n",
              "      <th>3</th>\n",
              "      <td>2000-01-06</td>\n",
              "      <td>0.947545</td>\n",
              "      <td>0.955357</td>\n",
              "      <td>0.848214</td>\n",
              "      <td>0.848214</td>\n",
              "      <td>0.730621</td>\n",
              "      <td>767972800</td>\n",
              "      <td>-0.090514</td>\n",
              "    </tr>\n",
              "    <tr>\n",
              "      <th>4</th>\n",
              "      <td>2000-01-07</td>\n",
              "      <td>0.861607</td>\n",
              "      <td>0.901786</td>\n",
              "      <td>0.852679</td>\n",
              "      <td>0.888393</td>\n",
              "      <td>0.765229</td>\n",
              "      <td>460734400</td>\n",
              "      <td>0.046281</td>\n",
              "    </tr>\n",
              "    <tr>\n",
              "      <th>...</th>\n",
              "      <td>...</td>\n",
              "      <td>...</td>\n",
              "      <td>...</td>\n",
              "      <td>...</td>\n",
              "      <td>...</td>\n",
              "      <td>...</td>\n",
              "      <td>...</td>\n",
              "      <td>...</td>\n",
              "    </tr>\n",
              "    <tr>\n",
              "      <th>5356</th>\n",
              "      <td>2021-04-19</td>\n",
              "      <td>133.509995</td>\n",
              "      <td>135.470001</td>\n",
              "      <td>133.339996</td>\n",
              "      <td>134.839996</td>\n",
              "      <td>134.839996</td>\n",
              "      <td>94264200</td>\n",
              "      <td>0.005056</td>\n",
              "    </tr>\n",
              "    <tr>\n",
              "      <th>5357</th>\n",
              "      <td>2021-04-20</td>\n",
              "      <td>135.020004</td>\n",
              "      <td>135.529999</td>\n",
              "      <td>131.809998</td>\n",
              "      <td>133.110001</td>\n",
              "      <td>133.110001</td>\n",
              "      <td>94812300</td>\n",
              "      <td>-0.012913</td>\n",
              "    </tr>\n",
              "    <tr>\n",
              "      <th>5358</th>\n",
              "      <td>2021-04-21</td>\n",
              "      <td>132.360001</td>\n",
              "      <td>133.750000</td>\n",
              "      <td>131.300003</td>\n",
              "      <td>133.500000</td>\n",
              "      <td>133.500000</td>\n",
              "      <td>68847100</td>\n",
              "      <td>0.002926</td>\n",
              "    </tr>\n",
              "    <tr>\n",
              "      <th>5359</th>\n",
              "      <td>2021-04-22</td>\n",
              "      <td>133.039993</td>\n",
              "      <td>134.149994</td>\n",
              "      <td>131.410004</td>\n",
              "      <td>131.940002</td>\n",
              "      <td>131.940002</td>\n",
              "      <td>84566500</td>\n",
              "      <td>-0.011754</td>\n",
              "    </tr>\n",
              "    <tr>\n",
              "      <th>5360</th>\n",
              "      <td>2021-04-23</td>\n",
              "      <td>132.160004</td>\n",
              "      <td>135.119995</td>\n",
              "      <td>132.160004</td>\n",
              "      <td>134.320007</td>\n",
              "      <td>134.320007</td>\n",
              "      <td>78657500</td>\n",
              "      <td>0.017878</td>\n",
              "    </tr>\n",
              "  </tbody>\n",
              "</table>\n",
              "<p>5361 rows × 8 columns</p>\n",
              "</div>"
            ],
            "text/plain": [
              "            Date        Open        High  ...   Adj Close     Volume  log return\n",
              "0     2000-01-03    0.936384    1.004464  ...    0.860883  535796800         NaN\n",
              "1     2000-01-04    0.966518    0.987723  ...    0.788302  512377600   -0.088077\n",
              "2     2000-01-05    0.926339    0.987165  ...    0.799837  778321600    0.014527\n",
              "3     2000-01-06    0.947545    0.955357  ...    0.730621  767972800   -0.090514\n",
              "4     2000-01-07    0.861607    0.901786  ...    0.765229  460734400    0.046281\n",
              "...          ...         ...         ...  ...         ...        ...         ...\n",
              "5356  2021-04-19  133.509995  135.470001  ...  134.839996   94264200    0.005056\n",
              "5357  2021-04-20  135.020004  135.529999  ...  133.110001   94812300   -0.012913\n",
              "5358  2021-04-21  132.360001  133.750000  ...  133.500000   68847100    0.002926\n",
              "5359  2021-04-22  133.039993  134.149994  ...  131.940002   84566500   -0.011754\n",
              "5360  2021-04-23  132.160004  135.119995  ...  134.320007   78657500    0.017878\n",
              "\n",
              "[5361 rows x 8 columns]"
            ]
          },
          "metadata": {
            "tags": []
          },
          "execution_count": 120
        }
      ]
    },
    {
      "cell_type": "code",
      "metadata": {
        "colab": {
          "base_uri": "https://localhost:8080/",
          "height": 419
        },
        "id": "pAeslnRMP44U",
        "outputId": "dc3bdf87-881c-4ce1-d0a9-a29dfbdfc32f"
      },
      "source": [
        "#change values of target variable to 1 or 0, 0 for negtaive daily price move, 1 for positive daily price move \n",
        "df['log return'] = [0 if i <=0 else 1 for i in df['log return']]\n",
        "df"
      ],
      "execution_count": 121,
      "outputs": [
        {
          "output_type": "execute_result",
          "data": {
            "text/html": [
              "<div>\n",
              "<style scoped>\n",
              "    .dataframe tbody tr th:only-of-type {\n",
              "        vertical-align: middle;\n",
              "    }\n",
              "\n",
              "    .dataframe tbody tr th {\n",
              "        vertical-align: top;\n",
              "    }\n",
              "\n",
              "    .dataframe thead th {\n",
              "        text-align: right;\n",
              "    }\n",
              "</style>\n",
              "<table border=\"1\" class=\"dataframe\">\n",
              "  <thead>\n",
              "    <tr style=\"text-align: right;\">\n",
              "      <th></th>\n",
              "      <th>Date</th>\n",
              "      <th>Open</th>\n",
              "      <th>High</th>\n",
              "      <th>Low</th>\n",
              "      <th>Close</th>\n",
              "      <th>Adj Close</th>\n",
              "      <th>Volume</th>\n",
              "      <th>log return</th>\n",
              "    </tr>\n",
              "  </thead>\n",
              "  <tbody>\n",
              "    <tr>\n",
              "      <th>0</th>\n",
              "      <td>2000-01-03</td>\n",
              "      <td>0.936384</td>\n",
              "      <td>1.004464</td>\n",
              "      <td>0.907924</td>\n",
              "      <td>0.999442</td>\n",
              "      <td>0.860883</td>\n",
              "      <td>535796800</td>\n",
              "      <td>1</td>\n",
              "    </tr>\n",
              "    <tr>\n",
              "      <th>1</th>\n",
              "      <td>2000-01-04</td>\n",
              "      <td>0.966518</td>\n",
              "      <td>0.987723</td>\n",
              "      <td>0.903460</td>\n",
              "      <td>0.915179</td>\n",
              "      <td>0.788302</td>\n",
              "      <td>512377600</td>\n",
              "      <td>0</td>\n",
              "    </tr>\n",
              "    <tr>\n",
              "      <th>2</th>\n",
              "      <td>2000-01-05</td>\n",
              "      <td>0.926339</td>\n",
              "      <td>0.987165</td>\n",
              "      <td>0.919643</td>\n",
              "      <td>0.928571</td>\n",
              "      <td>0.799837</td>\n",
              "      <td>778321600</td>\n",
              "      <td>1</td>\n",
              "    </tr>\n",
              "    <tr>\n",
              "      <th>3</th>\n",
              "      <td>2000-01-06</td>\n",
              "      <td>0.947545</td>\n",
              "      <td>0.955357</td>\n",
              "      <td>0.848214</td>\n",
              "      <td>0.848214</td>\n",
              "      <td>0.730621</td>\n",
              "      <td>767972800</td>\n",
              "      <td>0</td>\n",
              "    </tr>\n",
              "    <tr>\n",
              "      <th>4</th>\n",
              "      <td>2000-01-07</td>\n",
              "      <td>0.861607</td>\n",
              "      <td>0.901786</td>\n",
              "      <td>0.852679</td>\n",
              "      <td>0.888393</td>\n",
              "      <td>0.765229</td>\n",
              "      <td>460734400</td>\n",
              "      <td>1</td>\n",
              "    </tr>\n",
              "    <tr>\n",
              "      <th>...</th>\n",
              "      <td>...</td>\n",
              "      <td>...</td>\n",
              "      <td>...</td>\n",
              "      <td>...</td>\n",
              "      <td>...</td>\n",
              "      <td>...</td>\n",
              "      <td>...</td>\n",
              "      <td>...</td>\n",
              "    </tr>\n",
              "    <tr>\n",
              "      <th>5356</th>\n",
              "      <td>2021-04-19</td>\n",
              "      <td>133.509995</td>\n",
              "      <td>135.470001</td>\n",
              "      <td>133.339996</td>\n",
              "      <td>134.839996</td>\n",
              "      <td>134.839996</td>\n",
              "      <td>94264200</td>\n",
              "      <td>1</td>\n",
              "    </tr>\n",
              "    <tr>\n",
              "      <th>5357</th>\n",
              "      <td>2021-04-20</td>\n",
              "      <td>135.020004</td>\n",
              "      <td>135.529999</td>\n",
              "      <td>131.809998</td>\n",
              "      <td>133.110001</td>\n",
              "      <td>133.110001</td>\n",
              "      <td>94812300</td>\n",
              "      <td>0</td>\n",
              "    </tr>\n",
              "    <tr>\n",
              "      <th>5358</th>\n",
              "      <td>2021-04-21</td>\n",
              "      <td>132.360001</td>\n",
              "      <td>133.750000</td>\n",
              "      <td>131.300003</td>\n",
              "      <td>133.500000</td>\n",
              "      <td>133.500000</td>\n",
              "      <td>68847100</td>\n",
              "      <td>1</td>\n",
              "    </tr>\n",
              "    <tr>\n",
              "      <th>5359</th>\n",
              "      <td>2021-04-22</td>\n",
              "      <td>133.039993</td>\n",
              "      <td>134.149994</td>\n",
              "      <td>131.410004</td>\n",
              "      <td>131.940002</td>\n",
              "      <td>131.940002</td>\n",
              "      <td>84566500</td>\n",
              "      <td>0</td>\n",
              "    </tr>\n",
              "    <tr>\n",
              "      <th>5360</th>\n",
              "      <td>2021-04-23</td>\n",
              "      <td>132.160004</td>\n",
              "      <td>135.119995</td>\n",
              "      <td>132.160004</td>\n",
              "      <td>134.320007</td>\n",
              "      <td>134.320007</td>\n",
              "      <td>78657500</td>\n",
              "      <td>1</td>\n",
              "    </tr>\n",
              "  </tbody>\n",
              "</table>\n",
              "<p>5361 rows × 8 columns</p>\n",
              "</div>"
            ],
            "text/plain": [
              "            Date        Open        High  ...   Adj Close     Volume  log return\n",
              "0     2000-01-03    0.936384    1.004464  ...    0.860883  535796800           1\n",
              "1     2000-01-04    0.966518    0.987723  ...    0.788302  512377600           0\n",
              "2     2000-01-05    0.926339    0.987165  ...    0.799837  778321600           1\n",
              "3     2000-01-06    0.947545    0.955357  ...    0.730621  767972800           0\n",
              "4     2000-01-07    0.861607    0.901786  ...    0.765229  460734400           1\n",
              "...          ...         ...         ...  ...         ...        ...         ...\n",
              "5356  2021-04-19  133.509995  135.470001  ...  134.839996   94264200           1\n",
              "5357  2021-04-20  135.020004  135.529999  ...  133.110001   94812300           0\n",
              "5358  2021-04-21  132.360001  133.750000  ...  133.500000   68847100           1\n",
              "5359  2021-04-22  133.039993  134.149994  ...  131.940002   84566500           0\n",
              "5360  2021-04-23  132.160004  135.119995  ...  134.320007   78657500           1\n",
              "\n",
              "[5361 rows x 8 columns]"
            ]
          },
          "metadata": {
            "tags": []
          },
          "execution_count": 121
        }
      ]
    },
    {
      "cell_type": "code",
      "metadata": {
        "colab": {
          "base_uri": "https://localhost:8080/"
        },
        "id": "3fWUaQRZTT9T",
        "outputId": "33b3c6d1-23bd-4899-e721-e8f1f087f08b"
      },
      "source": [
        "#check nan's\n",
        "df.isna().sum()"
      ],
      "execution_count": 122,
      "outputs": [
        {
          "output_type": "execute_result",
          "data": {
            "text/plain": [
              "Date          0\n",
              "Open          0\n",
              "High          0\n",
              "Low           0\n",
              "Close         0\n",
              "Adj Close     0\n",
              "Volume        0\n",
              "log return    0\n",
              "dtype: int64"
            ]
          },
          "metadata": {
            "tags": []
          },
          "execution_count": 122
        }
      ]
    },
    {
      "cell_type": "code",
      "metadata": {
        "colab": {
          "base_uri": "https://localhost:8080/",
          "height": 451
        },
        "id": "By6RTds5TVta",
        "outputId": "fa71e1ff-25d0-406e-f6d3-8976dcdd30e6"
      },
      "source": [
        "# plot distribution of numerical data in df and observe (tragey varibale is fairly balanced which is important, explanatory variables are negatively skewed which is expected for financial data, we general ignore this)\n",
        "df.hist()"
      ],
      "execution_count": 123,
      "outputs": [
        {
          "output_type": "execute_result",
          "data": {
            "text/plain": [
              "array([[<matplotlib.axes._subplots.AxesSubplot object at 0x7f48ebdc6e50>,\n",
              "        <matplotlib.axes._subplots.AxesSubplot object at 0x7f48eb89ff90>,\n",
              "        <matplotlib.axes._subplots.AxesSubplot object at 0x7f48e04c6a10>],\n",
              "       [<matplotlib.axes._subplots.AxesSubplot object at 0x7f4885679cd0>,\n",
              "        <matplotlib.axes._subplots.AxesSubplot object at 0x7f489e0aa250>,\n",
              "        <matplotlib.axes._subplots.AxesSubplot object at 0x7f489e084450>],\n",
              "       [<matplotlib.axes._subplots.AxesSubplot object at 0x7f48e04cc590>,\n",
              "        <matplotlib.axes._subplots.AxesSubplot object at 0x7f48e04cee10>,\n",
              "        <matplotlib.axes._subplots.AxesSubplot object at 0x7f48e04ce8d0>]],\n",
              "      dtype=object)"
            ]
          },
          "metadata": {
            "tags": []
          },
          "execution_count": 123
        },
        {
          "output_type": "display_data",
          "data": {
            "image/png": "[encoded data removed]",
            "text/plain": [
              "<Figure size 432x288 with 9 Axes>"
            ]
          },
          "metadata": {
            "tags": [],
            "needs_background": "light"
          }
        }
      ]
    },
    {
      "cell_type": "code",
      "metadata": {
        "colab": {
          "base_uri": "https://localhost:8080/"
        },
        "id": "kQTcaz7BTfSD",
        "outputId": "4ec6aa39-6170-4770-e78d-f8325924fc00"
      },
      "source": [
        "## check types are sufficient\n",
        "df.dtypes"
      ],
      "execution_count": 124,
      "outputs": [
        {
          "output_type": "execute_result",
          "data": {
            "text/plain": [
              "Date           object\n",
              "Open          float64\n",
              "High          float64\n",
              "Low           float64\n",
              "Close         float64\n",
              "Adj Close     float64\n",
              "Volume          int64\n",
              "log return      int64\n",
              "dtype: object"
            ]
          },
          "metadata": {
            "tags": []
          },
          "execution_count": 124
        }
      ]
    },
    {
      "cell_type": "code",
      "metadata": {
        "id": "eBgjanV8TuV6",
        "colab": {
          "base_uri": "https://localhost:8080/",
          "height": 204
        },
        "outputId": "4eec178b-09c0-4627-a71a-347d6ec209f5"
      },
      "source": [
        "#drop date column\n",
        "df = df.drop([\"Date\"], axis=1)\n",
        "df.head()"
      ],
      "execution_count": 125,
      "outputs": [
        {
          "output_type": "execute_result",
          "data": {
            "text/html": [
              "<div>\n",
              "<style scoped>\n",
              "    .dataframe tbody tr th:only-of-type {\n",
              "        vertical-align: middle;\n",
              "    }\n",
              "\n",
              "    .dataframe tbody tr th {\n",
              "        vertical-align: top;\n",
              "    }\n",
              "\n",
              "    .dataframe thead th {\n",
              "        text-align: right;\n",
              "    }\n",
              "</style>\n",
              "<table border=\"1\" class=\"dataframe\">\n",
              "  <thead>\n",
              "    <tr style=\"text-align: right;\">\n",
              "      <th></th>\n",
              "      <th>Open</th>\n",
              "      <th>High</th>\n",
              "      <th>Low</th>\n",
              "      <th>Close</th>\n",
              "      <th>Adj Close</th>\n",
              "      <th>Volume</th>\n",
              "      <th>log return</th>\n",
              "    </tr>\n",
              "  </thead>\n",
              "  <tbody>\n",
              "    <tr>\n",
              "      <th>0</th>\n",
              "      <td>0.936384</td>\n",
              "      <td>1.004464</td>\n",
              "      <td>0.907924</td>\n",
              "      <td>0.999442</td>\n",
              "      <td>0.860883</td>\n",
              "      <td>535796800</td>\n",
              "      <td>1</td>\n",
              "    </tr>\n",
              "    <tr>\n",
              "      <th>1</th>\n",
              "      <td>0.966518</td>\n",
              "      <td>0.987723</td>\n",
              "      <td>0.903460</td>\n",
              "      <td>0.915179</td>\n",
              "      <td>0.788302</td>\n",
              "      <td>512377600</td>\n",
              "      <td>0</td>\n",
              "    </tr>\n",
              "    <tr>\n",
              "      <th>2</th>\n",
              "      <td>0.926339</td>\n",
              "      <td>0.987165</td>\n",
              "      <td>0.919643</td>\n",
              "      <td>0.928571</td>\n",
              "      <td>0.799837</td>\n",
              "      <td>778321600</td>\n",
              "      <td>1</td>\n",
              "    </tr>\n",
              "    <tr>\n",
              "      <th>3</th>\n",
              "      <td>0.947545</td>\n",
              "      <td>0.955357</td>\n",
              "      <td>0.848214</td>\n",
              "      <td>0.848214</td>\n",
              "      <td>0.730621</td>\n",
              "      <td>767972800</td>\n",
              "      <td>0</td>\n",
              "    </tr>\n",
              "    <tr>\n",
              "      <th>4</th>\n",
              "      <td>0.861607</td>\n",
              "      <td>0.901786</td>\n",
              "      <td>0.852679</td>\n",
              "      <td>0.888393</td>\n",
              "      <td>0.765229</td>\n",
              "      <td>460734400</td>\n",
              "      <td>1</td>\n",
              "    </tr>\n",
              "  </tbody>\n",
              "</table>\n",
              "</div>"
            ],
            "text/plain": [
              "       Open      High       Low     Close  Adj Close     Volume  log return\n",
              "0  0.936384  1.004464  0.907924  0.999442   0.860883  535796800           1\n",
              "1  0.966518  0.987723  0.903460  0.915179   0.788302  512377600           0\n",
              "2  0.926339  0.987165  0.919643  0.928571   0.799837  778321600           1\n",
              "3  0.947545  0.955357  0.848214  0.848214   0.730621  767972800           0\n",
              "4  0.861607  0.901786  0.852679  0.888393   0.765229  460734400           1"
            ]
          },
          "metadata": {
            "tags": []
          },
          "execution_count": 125
        }
      ]
    },
    {
      "cell_type": "code",
      "metadata": {
        "colab": {
          "base_uri": "https://localhost:8080/"
        },
        "id": "BIMUMhEZUAeL",
        "outputId": "abe02e17-b8af-4922-c5c9-31a9af2bf4d2"
      },
      "source": [
        "## extract features \n",
        "features = df.columns\n",
        "print(features)"
      ],
      "execution_count": 126,
      "outputs": [
        {
          "output_type": "stream",
          "text": [
            "Index(['Open', 'High', 'Low', 'Close', 'Adj Close', 'Volume', 'log return'], dtype='object')\n"
          ],
          "name": "stdout"
        }
      ]
    },
    {
      "cell_type": "code",
      "metadata": {
        "colab": {
          "base_uri": "https://localhost:8080/",
          "height": 269
        },
        "id": "50wru5agM6kg",
        "outputId": "f7161149-2a34-4029-b74d-a397e39fc3e8"
      },
      "source": [
        "df1 = pd.DataFrame(df,columns=['Open','High','Low', 'Close', 'Adj Close', 'Volume'])\n",
        "\n",
        "corrMatrix = df1.corr()\n",
        "sns.heatmap(corrMatrix, annot=True)\n",
        "plt.show()"
      ],
      "execution_count": 127,
      "outputs": [
        {
          "output_type": "display_data",
          "data": {
            "image/png": "[encoded data removed]",
            "text/plain": [
              "<Figure size 432x288 with 2 Axes>"
            ]
          },
          "metadata": {
            "tags": [],
            "needs_background": "light"
          }
        }
      ]
    },
    {
      "cell_type": "markdown",
      "metadata": {
        "id": "cuaziPCAN_Vz"
      },
      "source": [
        "## As expected there is perfect correlation within the explanatory variables. Therefore, 'Close' will be used for the ML models to prevent multicollinearity affecting results. All explanatory varaibles will be used in the DNN due to how over paramaterised it is. "
      ]
    },
    {
      "cell_type": "code",
      "metadata": {
        "colab": {
          "base_uri": "https://localhost:8080/",
          "height": 419
        },
        "id": "aJKexPceUSOz",
        "outputId": "1dc0448b-2484-4806-b24a-e1eb7327decc"
      },
      "source": [
        "## Perform feature scaling to standardize remaining numerical values \n",
        "#import standard scaler\n",
        "from sklearn.preprocessing import StandardScaler\n",
        "\n",
        "#Perform feature scaling \n",
        "standardScaler = StandardScaler()\n",
        "columns_for_ft_scaling = ['Open', 'High', 'Low', 'Close', 'Adj Close', 'Volume']\n",
        "\n",
        "#apply the fearure scaling operation on the datset using fit_transform() method\n",
        "df[columns_for_ft_scaling] = standardScaler.fit_transform(df[columns_for_ft_scaling])\n",
        "df.head(-1)"
      ],
      "execution_count": 128,
      "outputs": [
        {
          "output_type": "execute_result",
          "data": {
            "text/html": [
              "<div>\n",
              "<style scoped>\n",
              "    .dataframe tbody tr th:only-of-type {\n",
              "        vertical-align: middle;\n",
              "    }\n",
              "\n",
              "    .dataframe tbody tr th {\n",
              "        vertical-align: top;\n",
              "    }\n",
              "\n",
              "    .dataframe thead th {\n",
              "        text-align: right;\n",
              "    }\n",
              "</style>\n",
              "<table border=\"1\" class=\"dataframe\">\n",
              "  <thead>\n",
              "    <tr style=\"text-align: right;\">\n",
              "      <th></th>\n",
              "      <th>Open</th>\n",
              "      <th>High</th>\n",
              "      <th>Low</th>\n",
              "      <th>Close</th>\n",
              "      <th>Adj Close</th>\n",
              "      <th>Volume</th>\n",
              "      <th>log return</th>\n",
              "    </tr>\n",
              "  </thead>\n",
              "  <tbody>\n",
              "    <tr>\n",
              "      <th>0</th>\n",
              "      <td>-0.715977</td>\n",
              "      <td>-0.713080</td>\n",
              "      <td>-0.717784</td>\n",
              "      <td>-0.713739</td>\n",
              "      <td>-0.684642</td>\n",
              "      <td>0.244283</td>\n",
              "      <td>1</td>\n",
              "    </tr>\n",
              "    <tr>\n",
              "      <th>1</th>\n",
              "      <td>-0.714864</td>\n",
              "      <td>-0.713691</td>\n",
              "      <td>-0.717951</td>\n",
              "      <td>-0.716854</td>\n",
              "      <td>-0.687338</td>\n",
              "      <td>0.184301</td>\n",
              "      <td>0</td>\n",
              "    </tr>\n",
              "    <tr>\n",
              "      <th>2</th>\n",
              "      <td>-0.716349</td>\n",
              "      <td>-0.713712</td>\n",
              "      <td>-0.717345</td>\n",
              "      <td>-0.716359</td>\n",
              "      <td>-0.686909</td>\n",
              "      <td>0.865443</td>\n",
              "      <td>1</td>\n",
              "    </tr>\n",
              "    <tr>\n",
              "      <th>3</th>\n",
              "      <td>-0.715565</td>\n",
              "      <td>-0.714874</td>\n",
              "      <td>-0.720019</td>\n",
              "      <td>-0.719328</td>\n",
              "      <td>-0.689481</td>\n",
              "      <td>0.838937</td>\n",
              "      <td>0</td>\n",
              "    </tr>\n",
              "    <tr>\n",
              "      <th>4</th>\n",
              "      <td>-0.718741</td>\n",
              "      <td>-0.716831</td>\n",
              "      <td>-0.719852</td>\n",
              "      <td>-0.717843</td>\n",
              "      <td>-0.688195</td>\n",
              "      <td>0.052032</td>\n",
              "      <td>1</td>\n",
              "    </tr>\n",
              "    <tr>\n",
              "      <th>...</th>\n",
              "      <td>...</td>\n",
              "      <td>...</td>\n",
              "      <td>...</td>\n",
              "      <td>...</td>\n",
              "      <td>...</td>\n",
              "      <td>...</td>\n",
              "      <td>...</td>\n",
              "    </tr>\n",
              "    <tr>\n",
              "      <th>5355</th>\n",
              "      <td>4.213300</td>\n",
              "      <td>4.169644</td>\n",
              "      <td>4.237367</td>\n",
              "      <td>4.207450</td>\n",
              "      <td>4.267425</td>\n",
              "      <td>-0.910772</td>\n",
              "      <td>0</td>\n",
              "    </tr>\n",
              "    <tr>\n",
              "      <th>5356</th>\n",
              "      <td>4.184100</td>\n",
              "      <td>4.198868</td>\n",
              "      <td>4.239613</td>\n",
              "      <td>4.232581</td>\n",
              "      <td>4.292686</td>\n",
              "      <td>-0.886580</td>\n",
              "      <td>1</td>\n",
              "    </tr>\n",
              "    <tr>\n",
              "      <th>5357</th>\n",
              "      <td>4.239912</td>\n",
              "      <td>4.201059</td>\n",
              "      <td>4.182339</td>\n",
              "      <td>4.168646</td>\n",
              "      <td>4.228417</td>\n",
              "      <td>-0.885176</td>\n",
              "      <td>0</td>\n",
              "    </tr>\n",
              "    <tr>\n",
              "      <th>5358</th>\n",
              "      <td>4.141595</td>\n",
              "      <td>4.136037</td>\n",
              "      <td>4.163248</td>\n",
              "      <td>4.183059</td>\n",
              "      <td>4.242905</td>\n",
              "      <td>-0.951679</td>\n",
              "      <td>1</td>\n",
              "    </tr>\n",
              "    <tr>\n",
              "      <th>5359</th>\n",
              "      <td>4.166728</td>\n",
              "      <td>4.150649</td>\n",
              "      <td>4.167366</td>\n",
              "      <td>4.125406</td>\n",
              "      <td>4.184951</td>\n",
              "      <td>-0.911418</td>\n",
              "      <td>0</td>\n",
              "    </tr>\n",
              "  </tbody>\n",
              "</table>\n",
              "<p>5360 rows × 7 columns</p>\n",
              "</div>"
            ],
            "text/plain": [
              "          Open      High       Low     Close  Adj Close    Volume  log return\n",
              "0    -0.715977 -0.713080 -0.717784 -0.713739  -0.684642  0.244283           1\n",
              "1    -0.714864 -0.713691 -0.717951 -0.716854  -0.687338  0.184301           0\n",
              "2    -0.716349 -0.713712 -0.717345 -0.716359  -0.686909  0.865443           1\n",
              "3    -0.715565 -0.714874 -0.720019 -0.719328  -0.689481  0.838937           0\n",
              "4    -0.718741 -0.716831 -0.719852 -0.717843  -0.688195  0.052032           1\n",
              "...        ...       ...       ...       ...        ...       ...         ...\n",
              "5355  4.213300  4.169644  4.237367  4.207450   4.267425 -0.910772           0\n",
              "5356  4.184100  4.198868  4.239613  4.232581   4.292686 -0.886580           1\n",
              "5357  4.239912  4.201059  4.182339  4.168646   4.228417 -0.885176           0\n",
              "5358  4.141595  4.136037  4.163248  4.183059   4.242905 -0.951679           1\n",
              "5359  4.166728  4.150649  4.167366  4.125406   4.184951 -0.911418           0\n",
              "\n",
              "[5360 rows x 7 columns]"
            ]
          },
          "metadata": {
            "tags": []
          },
          "execution_count": 128
        }
      ]
    },
    {
      "cell_type": "code",
      "metadata": {
        "id": "FHjqJuKjUnOz"
      },
      "source": [
        "#set x and y variables \n",
        "x = np.array(df[['Close']])\n",
        "y = np.array(df['log return'])"
      ],
      "execution_count": 133,
      "outputs": []
    },
    {
      "cell_type": "code",
      "metadata": {
        "id": "GA100xNLWNiW"
      },
      "source": [
        "## split into training and test data \n",
        "from sklearn.model_selection import train_test_split\n",
        "x_train, x_test, y_train, y_test = train_test_split(x, y, test_size = 0.10, random_state = 42, shuffle=False)"
      ],
      "execution_count": 134,
      "outputs": []
    },
    {
      "cell_type": "markdown",
      "metadata": {
        "id": "5tLAGy-0J4x8"
      },
      "source": [
        "### Will now train and test some ML models"
      ]
    },
    {
      "cell_type": "code",
      "metadata": {
        "colab": {
          "base_uri": "https://localhost:8080/"
        },
        "id": "urlS7fK8WXrT",
        "outputId": "6a9f68cd-2432-43e6-fb3f-bf2a19a1d923"
      },
      "source": [
        "#Fit logistic regression model \n",
        "logmodel = LogisticRegression(random_state=42)\n",
        "logmodel.fit(x_train,y_train)\n",
        "\n",
        "#predict the results\n",
        "predict_lm = logmodel.predict(x_test)\n",
        "\n",
        "#Calculate accuracy \n",
        "log_model_accuracy = round(metrics.accuracy_score(y_test, predict_lm) * 100, 2)\n",
        "print(\"Logmodel accuracy:\", log_model_accuracy)"
      ],
      "execution_count": 136,
      "outputs": [
        {
          "output_type": "stream",
          "text": [
            "Logmodel accuracy: 54.93\n"
          ],
          "name": "stdout"
        }
      ]
    },
    {
      "cell_type": "code",
      "metadata": {
        "id": "4acyGvvhWZ2l",
        "colab": {
          "base_uri": "https://localhost:8080/"
        },
        "outputId": "b94af80c-2210-4106-94b2-9075fe105f69"
      },
      "source": [
        "#Fit a Support Vector Machine Model\n",
        "svm_model = SVC(kernel = 'linear', random_state = 42, probability = True)\n",
        "svm_model.fit(x_train,y_train)\n",
        "\n",
        "#predict results\n",
        "svm_predict = svm_model.predict(x_test)\n",
        "\n",
        "#Calculate accuracy \n",
        "svm_accuracy = round(metrics.accuracy_score(y_test, svm_predict) * 100, 2)\n",
        "print(\" SVC model accuracy:\", svm_accuracy)"
      ],
      "execution_count": 137,
      "outputs": [
        {
          "output_type": "stream",
          "text": [
            " SVC model accuracy: 54.93\n"
          ],
          "name": "stdout"
        }
      ]
    },
    {
      "cell_type": "code",
      "metadata": {
        "colab": {
          "base_uri": "https://localhost:8080/"
        },
        "id": "ee8nJBN6Wk8j",
        "outputId": "cef7c476-09fa-4b28-fe74-520992053305"
      },
      "source": [
        "#Fit K-Nearest Neighbour model \n",
        "kmodel = KNeighborsClassifier(n_neighbors=5, metric='minkowski', p=2) #p=2 represents Euclidean distance \n",
        "kmodel.fit(x_train,y_train)\n",
        "\n",
        "#Predict results\n",
        "k_predict = kmodel.predict(x_test)\n",
        "\n",
        "#Calcualte accuracy of the model \n",
        "k_accuracy = round(metrics.accuracy_score(y_test, k_predict) * 100, 2)\n",
        "print(\"K-Nearest Neighbours model:\", k_accuracy) "
      ],
      "execution_count": 138,
      "outputs": [
        {
          "output_type": "stream",
          "text": [
            "K-Nearest Neighbours model: 55.68\n"
          ],
          "name": "stdout"
        }
      ]
    },
    {
      "cell_type": "code",
      "metadata": {
        "colab": {
          "base_uri": "https://localhost:8080/"
        },
        "id": "A1g5OJtlWo5L",
        "outputId": "02746488-8ff3-4583-a8d2-4d7828a0f801"
      },
      "source": [
        "#Fit Decesion Tree model\n",
        "dtmodel = DecisionTreeClassifier(criterion = \"gini\", random_state = 42)\n",
        "dtmodel.fit(x_train,y_train)\n",
        "\n",
        "#Predict results\n",
        "dt_predict = dtmodel.predict(x_test)\n",
        "\n",
        "#Calculate accuracy\n",
        "dt_accuracy = round(metrics.accuracy_score(y_test, dt_predict) * 100, 2)\n",
        "print(\"Decesion Tree model accuracy:\", dt_accuracy)"
      ],
      "execution_count": 139,
      "outputs": [
        {
          "output_type": "stream",
          "text": [
            "Decesion Tree model accuracy: 55.31\n"
          ],
          "name": "stdout"
        }
      ]
    },
    {
      "cell_type": "code",
      "metadata": {
        "colab": {
          "base_uri": "https://localhost:8080/"
        },
        "id": "9PBIy4_gWsli",
        "outputId": "12579162-ae8f-48bc-bae3-0049716f6cb4"
      },
      "source": [
        "##Fit random forrest\n",
        "rf_classifier = RandomForestClassifier(random_state = 42)\n",
        "rf_classifier.fit(x_train,y_train)\n",
        "\n",
        "#predict results\n",
        "rf_predict = rf_classifier.predict(x_test)\n",
        "\n",
        "#calculate accuracy \n",
        "rf_accuracy = round(metrics.accuracy_score(y_test, rf_predict) * 100, 2)\n",
        "print(\"Random Forest Accuracy:\", rf_accuracy)"
      ],
      "execution_count": 140,
      "outputs": [
        {
          "output_type": "stream",
          "text": [
            "Random Forest Accuracy: 55.87\n"
          ],
          "name": "stdout"
        }
      ]
    },
    {
      "cell_type": "code",
      "metadata": {
        "colab": {
          "base_uri": "https://localhost:8080/"
        },
        "id": "qmhOMibxWvwi",
        "outputId": "d1911f9a-8638-4cc4-f0af-d94fd9051eb1"
      },
      "source": [
        "\n",
        "gb_clf = GradientBoostingClassifier(random_state=42)\n",
        "gb_clf.fit(x_train,y_train)\n",
        "\n",
        "gb_predict = gb_clf.predict(x_test)\n",
        "\n",
        "gb_accuracy = round(metrics.accuracy_score(y_test, gb_predict) * 100, 2)\n",
        "print(\"GradientBoostingClassifier Accuracy:\", gb_accuracy)"
      ],
      "execution_count": 141,
      "outputs": [
        {
          "output_type": "stream",
          "text": [
            "GradientBoostingClassifier Accuracy: 54.38\n"
          ],
          "name": "stdout"
        }
      ]
    },
    {
      "cell_type": "code",
      "metadata": {
        "colab": {
          "base_uri": "https://localhost:8080/",
          "height": 235
        },
        "id": "Q0wVs7LXWzaL",
        "outputId": "5feeb737-fc97-4018-c924-81b972778816"
      },
      "source": [
        "#Create table of accuracies \n",
        "model_comparison = pd.DataFrame({\n",
        "    'Model' : ['Logistic Regression', 'Support Vector Machine', 'K_Nearest Neighbours', 'Decesion Tree', 'Random Forest', 'GradientBoostingClassifier'],\n",
        "    'Score' : [log_model_accuracy, svm_accuracy, k_accuracy, dt_accuracy, rf_accuracy, gb_accuracy]\n",
        "})\n",
        "Model_comparison_df = model_comparison.sort_values(by='Score', ascending=False)\n",
        "Model_comparison_df = Model_comparison_df.set_index('Score')\n",
        "Model_comparison_df.reset_index()"
      ],
      "execution_count": 142,
      "outputs": [
        {
          "output_type": "execute_result",
          "data": {
            "text/html": [
              "<div>\n",
              "<style scoped>\n",
              "    .dataframe tbody tr th:only-of-type {\n",
              "        vertical-align: middle;\n",
              "    }\n",
              "\n",
              "    .dataframe tbody tr th {\n",
              "        vertical-align: top;\n",
              "    }\n",
              "\n",
              "    .dataframe thead th {\n",
              "        text-align: right;\n",
              "    }\n",
              "</style>\n",
              "<table border=\"1\" class=\"dataframe\">\n",
              "  <thead>\n",
              "    <tr style=\"text-align: right;\">\n",
              "      <th></th>\n",
              "      <th>Score</th>\n",
              "      <th>Model</th>\n",
              "    </tr>\n",
              "  </thead>\n",
              "  <tbody>\n",
              "    <tr>\n",
              "      <th>0</th>\n",
              "      <td>55.87</td>\n",
              "      <td>Random Forest</td>\n",
              "    </tr>\n",
              "    <tr>\n",
              "      <th>1</th>\n",
              "      <td>55.68</td>\n",
              "      <td>K_Nearest Neighbours</td>\n",
              "    </tr>\n",
              "    <tr>\n",
              "      <th>2</th>\n",
              "      <td>55.31</td>\n",
              "      <td>Decesion Tree</td>\n",
              "    </tr>\n",
              "    <tr>\n",
              "      <th>3</th>\n",
              "      <td>54.93</td>\n",
              "      <td>Logistic Regression</td>\n",
              "    </tr>\n",
              "    <tr>\n",
              "      <th>4</th>\n",
              "      <td>54.93</td>\n",
              "      <td>Support Vector Machine</td>\n",
              "    </tr>\n",
              "    <tr>\n",
              "      <th>5</th>\n",
              "      <td>54.38</td>\n",
              "      <td>GradientBoostingClassifier</td>\n",
              "    </tr>\n",
              "  </tbody>\n",
              "</table>\n",
              "</div>"
            ],
            "text/plain": [
              "   Score                       Model\n",
              "0  55.87               Random Forest\n",
              "1  55.68        K_Nearest Neighbours\n",
              "2  55.31               Decesion Tree\n",
              "3  54.93         Logistic Regression\n",
              "4  54.93      Support Vector Machine\n",
              "5  54.38  GradientBoostingClassifier"
            ]
          },
          "metadata": {
            "tags": []
          },
          "execution_count": 142
        }
      ]
    },
    {
      "cell_type": "code",
      "metadata": {
        "colab": {
          "base_uri": "https://localhost:8080/",
          "height": 443
        },
        "id": "hd2ycAVcOol3",
        "outputId": "86101739-3a77-475d-8f22-cd003a079667"
      },
      "source": [
        "#Generate confusion matrix for model evauluation, will use model with the highest accuracy \n",
        "\n",
        "from sklearn.metrics import confusion_matrix, classification_report\n",
        "cm = confusion_matrix(y_test, rf_predict)\n",
        "print(cm)\n",
        "plt.figure(figsize=(8,6))\n",
        "plt.title('Confusion Matrix', size=16)\n",
        "sns.heatmap(cm, annot=True, cmap='Blues')"
      ],
      "execution_count": 143,
      "outputs": [
        {
          "output_type": "stream",
          "text": [
            "[[ 31 211]\n",
            " [ 26 269]]\n"
          ],
          "name": "stdout"
        },
        {
          "output_type": "execute_result",
          "data": {
            "text/plain": [
              "<matplotlib.axes._subplots.AxesSubplot at 0x7f48852ed750>"
            ]
          },
          "metadata": {
            "tags": []
          },
          "execution_count": 143
        },
        {
          "output_type": "display_data",
          "data": {
            "image/png": "[encoded data removed]",
            "text/plain": [
              "<Figure size 576x432 with 2 Axes>"
            ]
          },
          "metadata": {
            "tags": [],
            "needs_background": "light"
          }
        }
      ]
    },
    {
      "cell_type": "markdown",
      "metadata": {
        "id": "5VPAoaNvRHGM"
      },
      "source": [
        "## As can be seen by the confusion matrix our best performing model, in terms of accuracy, is poor. The model is predicting that the price will move higher more often than it is, sucessfully capturing 269 True Positives, but miss prediciting 211 False positives. The model is also unsucessful at predicting downturns with 31 True Negatives and 26 False positives. I believe accuracay for this business problem is the most suitable metric. "
      ]
    },
    {
      "cell_type": "markdown",
      "metadata": {
        "id": "g79wJyGXKGmA"
      },
      "source": [
        "### I will now forecast 5 days of positive/negative daily stock returns for Apple stock "
      ]
    },
    {
      "cell_type": "code",
      "metadata": {
        "colab": {
          "base_uri": "https://localhost:8080/"
        },
        "id": "ANJP3G8ScNAK",
        "outputId": "3af61363-0f2b-471f-e65c-abb3a4b10ec8"
      },
      "source": [
        "#Use make_blobs to generate values with a standard normal dis. \n",
        "#Predicitions appear consistant but having used different sample periods the predicitions do not chanage. likely biased. \n",
        "\n",
        "#new instances where we do not know the answer\n",
        "from sklearn.datasets import make_blobs\n",
        "Xnew, _ = make_blobs(n_samples=5, centers=5, n_features=1, random_state=1)\n",
        "# make a prediction\n",
        "ynew = rf_classifier.predict(Xnew)\n",
        "# show the inputs and predicted outputs\n",
        "for i in range(len(Xnew)):\n",
        "\tprint(\"Predicted=%s\" % (ynew[i]))"
      ],
      "execution_count": 144,
      "outputs": [
        {
          "output_type": "stream",
          "text": [
            "Predicted=0\n",
            "Predicted=0\n",
            "Predicted=1\n",
            "Predicted=0\n",
            "Predicted=0\n"
          ],
          "name": "stdout"
        }
      ]
    },
    {
      "cell_type": "code",
      "metadata": {
        "colab": {
          "base_uri": "https://localhost:8080/"
        },
        "id": "kSE9ib5kerTd",
        "outputId": "32c228e1-923e-41cc-e043-5c275e662fc5"
      },
      "source": [
        "#forecast with log model as above \n",
        "from sklearn.datasets import make_blobs\n",
        "Xnew, _ = make_blobs(n_samples=5, centers=5, n_features=1, random_state=1)\n",
        "x_new = np.concatenate((x_test, Xnew))\n",
        "ynew = logmodel.predict(x_new)\n",
        "predictions = ynew[-5:]\n",
        "for i in range(len(predictions)):\n",
        "    print(\"Prediction = \", predictions[i])"
      ],
      "execution_count": 145,
      "outputs": [
        {
          "output_type": "stream",
          "text": [
            "Prediction =  0\n",
            "Prediction =  0\n",
            "Prediction =  1\n",
            "Prediction =  0\n",
            "Prediction =  0\n"
          ],
          "name": "stdout"
        }
      ]
    },
    {
      "cell_type": "code",
      "metadata": {
        "colab": {
          "base_uri": "https://localhost:8080/"
        },
        "id": "exs1XJ5VbXex",
        "outputId": "3da77b64-f093-401a-8b57-b9cbe3e486c3"
      },
      "source": [
        "#Forecasting with rf and random.choice \n",
        "#Use random choice to select 5 random rows of observations and add this onto the end of the time series test data to forecast 5 additional predicitions. \n",
        "#Results are very inconsistent \n",
        "xnew = np.random.choice(len(x_train), 5, replace=False)\n",
        "X_new = x_train[xnew]\n",
        "x_new = np.concatenate((x_test, X_new))\n",
        "ynew = rf_classifier.predict(x_new)\n",
        "predictions = ynew[-5:]\n",
        "for i in range(len(predictions)):\n",
        "    print(\"Prediction = \", predictions[i])"
      ],
      "execution_count": 146,
      "outputs": [
        {
          "output_type": "stream",
          "text": [
            "Prediction =  0\n",
            "Prediction =  0\n",
            "Prediction =  1\n",
            "Prediction =  1\n",
            "Prediction =  1\n"
          ],
          "name": "stdout"
        }
      ]
    },
    {
      "cell_type": "code",
      "metadata": {
        "colab": {
          "base_uri": "https://localhost:8080/"
        },
        "id": "wzPJV0kxdDCT",
        "outputId": "d92587bb-8227-435d-ee9b-8b007c973507"
      },
      "source": [
        "#forecast using randit function to generate a random integer and effectively fit a random slice of the test data with our model plus number of observations.   \n",
        "#stable but bias results for this data set.\n",
        "from numpy import random\n",
        "\n",
        "random_number = random.randint(500)\n",
        "n_obs = 5\n",
        "random_set = x_test[random_number:random_number+n_obs]\n",
        "x_new = np.concatenate((x_test, random_set))\n",
        "\n",
        "ynew = rf_classifier.predict(x_new)\n",
        "predictions = ynew[-5:]\n",
        "for i in range(len(predictions)):\n",
        "    print(\"Prediction = \", predictions[i])"
      ],
      "execution_count": 147,
      "outputs": [
        {
          "output_type": "stream",
          "text": [
            "Prediction =  1\n",
            "Prediction =  1\n",
            "Prediction =  0\n",
            "Prediction =  0\n",
            "Prediction =  0\n"
          ],
          "name": "stdout"
        }
      ]
    },
    {
      "cell_type": "markdown",
      "metadata": {
        "id": "wKEon5OCKwVk"
      },
      "source": [
        "# I will now form a DNN for predicting positive/negative returns "
      ]
    },
    {
      "cell_type": "code",
      "metadata": {
        "id": "QDKSdtH-pkAO"
      },
      "source": [
        "#reload data  \n",
        "df = pd.read_csv('/content/AAPL (3).csv') #load\n",
        "df['log return'] = np.log(df.Close) - np.log(df.Close.shift(1)) #calculate log returns and add col\n",
        "df['log return'] = [0 if i <=0 else 1 for i in df['log return']] #changes log returns to 0 or 1 for target\n",
        "df = df.drop([\"Date\"], axis=1) #drop date col\n",
        "\n",
        "df[columns_for_ft_scaling] = standardScaler.fit_transform(df[columns_for_ft_scaling]) #standard scale (I opted for this as model performed very badly with normalised data)\n",
        "\n",
        "x = np.array(df[['Open', 'High', 'Low', 'Close', 'Adj Close', 'Volume']]) #set x\n",
        "y = np.array(df['log return']) #set y \n"
      ],
      "execution_count": 148,
      "outputs": []
    },
    {
      "cell_type": "code",
      "metadata": {
        "id": "lrdEK5hIwP41"
      },
      "source": [
        "## split into training and test data \n",
        "from sklearn.model_selection import train_test_split\n",
        "x_train, x_test, y_train, y_test = train_test_split(x, y, test_size = 0.2, random_state = 42, shuffle=True)"
      ],
      "execution_count": 149,
      "outputs": []
    },
    {
      "cell_type": "code",
      "metadata": {
        "colab": {
          "base_uri": "https://localhost:8080/"
        },
        "id": "h5Sr17UFXw4k",
        "outputId": "00d50480-0d1e-47e0-f6b3-f9e487bea6fa"
      },
      "source": [
        "#build model by using keras sequential \n",
        "model = keras.Sequential()\n",
        "model.add(layers.Dense(1024, input_dim=6, activation='relu')) #add first dense layer with 1024 nodes, relu activation function \n",
        "model.add(layers.Dense(512, activation='relu')) #add second dense layer with 512 nodes, relu activation function \n",
        "model.add(layers.Dense(256, activation='relu')) #third with 256 nodes, relu\n",
        "model.add(layers.Dense(128, activation='relu')) #fourth, relu \n",
        "model.add(layers.Dense(1, activation='sigmoid')) #output layer, sigmoid \n",
        "model.summary()"
      ],
      "execution_count": 150,
      "outputs": [
        {
          "output_type": "stream",
          "text": [
            "Model: \"sequential_1\"\n",
            "_________________________________________________________________\n",
            "Layer (type)                 Output Shape              Param #   \n",
            "=================================================================\n",
            "dense_5 (Dense)              (None, 1024)              7168      \n",
            "_________________________________________________________________\n",
            "dense_6 (Dense)              (None, 512)               524800    \n",
            "_________________________________________________________________\n",
            "dense_7 (Dense)              (None, 256)               131328    \n",
            "_________________________________________________________________\n",
            "dense_8 (Dense)              (None, 128)               32896     \n",
            "_________________________________________________________________\n",
            "dense_9 (Dense)              (None, 1)                 129       \n",
            "=================================================================\n",
            "Total params: 696,321\n",
            "Trainable params: 696,321\n",
            "Non-trainable params: 0\n",
            "_________________________________________________________________\n"
          ],
          "name": "stdout"
        }
      ]
    },
    {
      "cell_type": "code",
      "metadata": {
        "id": "ceHgs-jAsOx0"
      },
      "source": [
        "#compile model, set loss function, optiser and metric\n",
        "from keras import optimizers\n",
        "optimizer = optimizers.Adam(lr=1e-05)\n",
        "model.compile(loss='binary_crossentropy', \n",
        "              optimizer=optimizer,\n",
        "              metrics=['acc'])"
      ],
      "execution_count": 151,
      "outputs": []
    },
    {
      "cell_type": "code",
      "metadata": {
        "id": "pJ0_b5HOO_m9"
      },
      "source": [
        "#make tensor flow run eagerly instead of graph function \n",
        "tf.config.run_functions_eagerly(True)"
      ],
      "execution_count": 152,
      "outputs": []
    },
    {
      "cell_type": "code",
      "metadata": {
        "colab": {
          "base_uri": "https://localhost:8080/"
        },
        "id": "ikz548TyZYDy",
        "outputId": "1b4cc489-3038-454f-c14e-2c9e107c6d40"
      },
      "source": [
        "#fit model to training data \n",
        "model.fit(x_train, y_train, epochs=500, batch_size=128, validation_data=(x_test,y_test))"
      ],
      "execution_count": 153,
      "outputs": [
        {
          "output_type": "stream",
          "text": [
            "Epoch 1/500\n",
            "34/34 [==============================] - 1s 16ms/step - loss: 0.6929 - acc: 0.5143 - val_loss: 0.6928 - val_acc: 0.5163\n",
            "Epoch 2/500\n",
            "34/34 [==============================] - 1s 15ms/step - loss: 0.6920 - acc: 0.5340 - val_loss: 0.6927 - val_acc: 0.5172\n",
            "Epoch 3/500\n",
            "34/34 [==============================] - 1s 15ms/step - loss: 0.6918 - acc: 0.5217 - val_loss: 0.6928 - val_acc: 0.5172\n",
            "Epoch 4/500\n",
            "34/34 [==============================] - 1s 16ms/step - loss: 0.6928 - acc: 0.5126 - val_loss: 0.6924 - val_acc: 0.5191\n",
            "Epoch 5/500\n",
            "34/34 [==============================] - 1s 15ms/step - loss: 0.6913 - acc: 0.5284 - val_loss: 0.6924 - val_acc: 0.5182\n",
            "Epoch 6/500\n",
            "34/34 [==============================] - 1s 15ms/step - loss: 0.6912 - acc: 0.5270 - val_loss: 0.6922 - val_acc: 0.5182\n",
            "Epoch 7/500\n",
            "34/34 [==============================] - 1s 15ms/step - loss: 0.6911 - acc: 0.5301 - val_loss: 0.6922 - val_acc: 0.5182\n",
            "Epoch 8/500\n",
            "34/34 [==============================] - 1s 15ms/step - loss: 0.6909 - acc: 0.5375 - val_loss: 0.6919 - val_acc: 0.5182\n",
            "Epoch 9/500\n",
            "34/34 [==============================] - 1s 15ms/step - loss: 0.6905 - acc: 0.5244 - val_loss: 0.6918 - val_acc: 0.5191\n",
            "Epoch 10/500\n",
            "34/34 [==============================] - 1s 15ms/step - loss: 0.6908 - acc: 0.5256 - val_loss: 0.6917 - val_acc: 0.5219\n",
            "Epoch 11/500\n",
            "34/34 [==============================] - 1s 15ms/step - loss: 0.6911 - acc: 0.5254 - val_loss: 0.6914 - val_acc: 0.5331\n",
            "Epoch 12/500\n",
            "34/34 [==============================] - 1s 15ms/step - loss: 0.6898 - acc: 0.5412 - val_loss: 0.6915 - val_acc: 0.5322\n",
            "Epoch 13/500\n",
            "34/34 [==============================] - 1s 15ms/step - loss: 0.6911 - acc: 0.5279 - val_loss: 0.6913 - val_acc: 0.5396\n",
            "Epoch 14/500\n",
            "34/34 [==============================] - 1s 15ms/step - loss: 0.6902 - acc: 0.5307 - val_loss: 0.6914 - val_acc: 0.5322\n",
            "Epoch 15/500\n",
            "34/34 [==============================] - 1s 15ms/step - loss: 0.6902 - acc: 0.5349 - val_loss: 0.6912 - val_acc: 0.5405\n",
            "Epoch 16/500\n",
            "34/34 [==============================] - 1s 15ms/step - loss: 0.6915 - acc: 0.5220 - val_loss: 0.6910 - val_acc: 0.5480\n",
            "Epoch 17/500\n",
            "34/34 [==============================] - 1s 15ms/step - loss: 0.6910 - acc: 0.5295 - val_loss: 0.6911 - val_acc: 0.5424\n",
            "Epoch 18/500\n",
            "34/34 [==============================] - 1s 15ms/step - loss: 0.6901 - acc: 0.5401 - val_loss: 0.6909 - val_acc: 0.5452\n",
            "Epoch 19/500\n",
            "34/34 [==============================] - 1s 16ms/step - loss: 0.6910 - acc: 0.5308 - val_loss: 0.6908 - val_acc: 0.5489\n",
            "Epoch 20/500\n",
            "34/34 [==============================] - 1s 15ms/step - loss: 0.6897 - acc: 0.5383 - val_loss: 0.6906 - val_acc: 0.5452\n",
            "Epoch 21/500\n",
            "34/34 [==============================] - 1s 15ms/step - loss: 0.6897 - acc: 0.5360 - val_loss: 0.6906 - val_acc: 0.5452\n",
            "Epoch 22/500\n",
            "34/34 [==============================] - 1s 15ms/step - loss: 0.6901 - acc: 0.5482 - val_loss: 0.6905 - val_acc: 0.5443\n",
            "Epoch 23/500\n",
            "34/34 [==============================] - 1s 15ms/step - loss: 0.6914 - acc: 0.5268 - val_loss: 0.6904 - val_acc: 0.5443\n",
            "Epoch 24/500\n",
            "34/34 [==============================] - 1s 15ms/step - loss: 0.6888 - acc: 0.5526 - val_loss: 0.6903 - val_acc: 0.5452\n",
            "Epoch 25/500\n",
            "34/34 [==============================] - 1s 15ms/step - loss: 0.6910 - acc: 0.5223 - val_loss: 0.6903 - val_acc: 0.5471\n",
            "Epoch 26/500\n",
            "34/34 [==============================] - 0s 15ms/step - loss: 0.6917 - acc: 0.5287 - val_loss: 0.6901 - val_acc: 0.5499\n",
            "Epoch 27/500\n",
            "34/34 [==============================] - 1s 16ms/step - loss: 0.6906 - acc: 0.5300 - val_loss: 0.6902 - val_acc: 0.5499\n",
            "Epoch 28/500\n",
            "34/34 [==============================] - 1s 15ms/step - loss: 0.6894 - acc: 0.5419 - val_loss: 0.6901 - val_acc: 0.5461\n",
            "Epoch 29/500\n",
            "34/34 [==============================] - 1s 15ms/step - loss: 0.6897 - acc: 0.5364 - val_loss: 0.6900 - val_acc: 0.5489\n",
            "Epoch 30/500\n",
            "34/34 [==============================] - 1s 15ms/step - loss: 0.6904 - acc: 0.5304 - val_loss: 0.6901 - val_acc: 0.5461\n",
            "Epoch 31/500\n",
            "34/34 [==============================] - 1s 15ms/step - loss: 0.6904 - acc: 0.5297 - val_loss: 0.6899 - val_acc: 0.5433\n",
            "Epoch 32/500\n",
            "34/34 [==============================] - 1s 15ms/step - loss: 0.6894 - acc: 0.5401 - val_loss: 0.6899 - val_acc: 0.5471\n",
            "Epoch 33/500\n",
            "34/34 [==============================] - 1s 16ms/step - loss: 0.6911 - acc: 0.5273 - val_loss: 0.6897 - val_acc: 0.5555\n",
            "Epoch 34/500\n",
            "34/34 [==============================] - 1s 15ms/step - loss: 0.6903 - acc: 0.5247 - val_loss: 0.6897 - val_acc: 0.5499\n",
            "Epoch 35/500\n",
            "34/34 [==============================] - 1s 15ms/step - loss: 0.6893 - acc: 0.5372 - val_loss: 0.6896 - val_acc: 0.5471\n",
            "Epoch 36/500\n",
            "34/34 [==============================] - 1s 15ms/step - loss: 0.6877 - acc: 0.5442 - val_loss: 0.6897 - val_acc: 0.5489\n",
            "Epoch 37/500\n",
            "34/34 [==============================] - 1s 16ms/step - loss: 0.6895 - acc: 0.5381 - val_loss: 0.6894 - val_acc: 0.5527\n",
            "Epoch 38/500\n",
            "34/34 [==============================] - 1s 15ms/step - loss: 0.6907 - acc: 0.5302 - val_loss: 0.6895 - val_acc: 0.5564\n",
            "Epoch 39/500\n",
            "34/34 [==============================] - 1s 15ms/step - loss: 0.6895 - acc: 0.5354 - val_loss: 0.6890 - val_acc: 0.5564\n",
            "Epoch 40/500\n",
            "34/34 [==============================] - 1s 15ms/step - loss: 0.6887 - acc: 0.5420 - val_loss: 0.6894 - val_acc: 0.5461\n",
            "Epoch 41/500\n",
            "34/34 [==============================] - 1s 15ms/step - loss: 0.6894 - acc: 0.5350 - val_loss: 0.6888 - val_acc: 0.5555\n",
            "Epoch 42/500\n",
            "34/34 [==============================] - 1s 15ms/step - loss: 0.6892 - acc: 0.5378 - val_loss: 0.6890 - val_acc: 0.5499\n",
            "Epoch 43/500\n",
            "34/34 [==============================] - 1s 15ms/step - loss: 0.6893 - acc: 0.5321 - val_loss: 0.6890 - val_acc: 0.5555\n",
            "Epoch 44/500\n",
            "34/34 [==============================] - 1s 15ms/step - loss: 0.6897 - acc: 0.5343 - val_loss: 0.6889 - val_acc: 0.5527\n",
            "Epoch 45/500\n",
            "34/34 [==============================] - 1s 15ms/step - loss: 0.6876 - acc: 0.5463 - val_loss: 0.6888 - val_acc: 0.5536\n",
            "Epoch 46/500\n",
            "34/34 [==============================] - 1s 16ms/step - loss: 0.6907 - acc: 0.5344 - val_loss: 0.6887 - val_acc: 0.5573\n",
            "Epoch 47/500\n",
            "34/34 [==============================] - 1s 15ms/step - loss: 0.6897 - acc: 0.5322 - val_loss: 0.6888 - val_acc: 0.5527\n",
            "Epoch 48/500\n",
            "34/34 [==============================] - 1s 15ms/step - loss: 0.6881 - acc: 0.5451 - val_loss: 0.6882 - val_acc: 0.5555\n",
            "Epoch 49/500\n",
            "34/34 [==============================] - 1s 15ms/step - loss: 0.6895 - acc: 0.5322 - val_loss: 0.6885 - val_acc: 0.5564\n",
            "Epoch 50/500\n",
            "34/34 [==============================] - 1s 15ms/step - loss: 0.6891 - acc: 0.5302 - val_loss: 0.6885 - val_acc: 0.5573\n",
            "Epoch 51/500\n",
            "34/34 [==============================] - 1s 15ms/step - loss: 0.6877 - acc: 0.5402 - val_loss: 0.6880 - val_acc: 0.5499\n",
            "Epoch 52/500\n",
            "34/34 [==============================] - 1s 15ms/step - loss: 0.6888 - acc: 0.5333 - val_loss: 0.6883 - val_acc: 0.5536\n",
            "Epoch 53/500\n",
            "34/34 [==============================] - 0s 15ms/step - loss: 0.6886 - acc: 0.5373 - val_loss: 0.6884 - val_acc: 0.5536\n",
            "Epoch 54/500\n",
            "34/34 [==============================] - 1s 16ms/step - loss: 0.6870 - acc: 0.5437 - val_loss: 0.6880 - val_acc: 0.5610\n",
            "Epoch 55/500\n",
            "34/34 [==============================] - 1s 15ms/step - loss: 0.6891 - acc: 0.5285 - val_loss: 0.6879 - val_acc: 0.5545\n",
            "Epoch 56/500\n",
            "34/34 [==============================] - 1s 15ms/step - loss: 0.6867 - acc: 0.5521 - val_loss: 0.6879 - val_acc: 0.5564\n",
            "Epoch 57/500\n",
            "34/34 [==============================] - 1s 16ms/step - loss: 0.6887 - acc: 0.5281 - val_loss: 0.6877 - val_acc: 0.5564\n",
            "Epoch 58/500\n",
            "34/34 [==============================] - 1s 16ms/step - loss: 0.6868 - acc: 0.5465 - val_loss: 0.6879 - val_acc: 0.5527\n",
            "Epoch 59/500\n",
            "34/34 [==============================] - 1s 15ms/step - loss: 0.6880 - acc: 0.5367 - val_loss: 0.6876 - val_acc: 0.5545\n",
            "Epoch 60/500\n",
            "34/34 [==============================] - 1s 15ms/step - loss: 0.6865 - acc: 0.5503 - val_loss: 0.6875 - val_acc: 0.5545\n",
            "Epoch 61/500\n",
            "34/34 [==============================] - 1s 15ms/step - loss: 0.6870 - acc: 0.5499 - val_loss: 0.6874 - val_acc: 0.5545\n",
            "Epoch 62/500\n",
            "34/34 [==============================] - 1s 15ms/step - loss: 0.6880 - acc: 0.5337 - val_loss: 0.6875 - val_acc: 0.5545\n",
            "Epoch 63/500\n",
            "34/34 [==============================] - 1s 16ms/step - loss: 0.6869 - acc: 0.5420 - val_loss: 0.6875 - val_acc: 0.5545\n",
            "Epoch 64/500\n",
            "34/34 [==============================] - 1s 15ms/step - loss: 0.6876 - acc: 0.5374 - val_loss: 0.6874 - val_acc: 0.5601\n",
            "Epoch 65/500\n",
            "34/34 [==============================] - 1s 15ms/step - loss: 0.6895 - acc: 0.5296 - val_loss: 0.6872 - val_acc: 0.5555\n",
            "Epoch 66/500\n",
            "34/34 [==============================] - 1s 15ms/step - loss: 0.6865 - acc: 0.5458 - val_loss: 0.6874 - val_acc: 0.5555\n",
            "Epoch 67/500\n",
            "34/34 [==============================] - 1s 15ms/step - loss: 0.6890 - acc: 0.5372 - val_loss: 0.6872 - val_acc: 0.5592\n",
            "Epoch 68/500\n",
            "34/34 [==============================] - 1s 15ms/step - loss: 0.6875 - acc: 0.5396 - val_loss: 0.6872 - val_acc: 0.5620\n",
            "Epoch 69/500\n",
            "34/34 [==============================] - 1s 16ms/step - loss: 0.6879 - acc: 0.5429 - val_loss: 0.6871 - val_acc: 0.5573\n",
            "Epoch 70/500\n",
            "34/34 [==============================] - 1s 15ms/step - loss: 0.6867 - acc: 0.5446 - val_loss: 0.6868 - val_acc: 0.5499\n",
            "Epoch 71/500\n",
            "34/34 [==============================] - 1s 16ms/step - loss: 0.6862 - acc: 0.5401 - val_loss: 0.6866 - val_acc: 0.5545\n",
            "Epoch 72/500\n",
            "34/34 [==============================] - 1s 15ms/step - loss: 0.6866 - acc: 0.5498 - val_loss: 0.6868 - val_acc: 0.5536\n",
            "Epoch 73/500\n",
            "34/34 [==============================] - 1s 16ms/step - loss: 0.6856 - acc: 0.5570 - val_loss: 0.6869 - val_acc: 0.5582\n",
            "Epoch 74/500\n",
            "34/34 [==============================] - 1s 16ms/step - loss: 0.6875 - acc: 0.5367 - val_loss: 0.6865 - val_acc: 0.5555\n",
            "Epoch 75/500\n",
            "34/34 [==============================] - 1s 15ms/step - loss: 0.6859 - acc: 0.5490 - val_loss: 0.6865 - val_acc: 0.5610\n",
            "Epoch 76/500\n",
            "34/34 [==============================] - 1s 16ms/step - loss: 0.6880 - acc: 0.5357 - val_loss: 0.6866 - val_acc: 0.5573\n",
            "Epoch 77/500\n",
            "34/34 [==============================] - 1s 16ms/step - loss: 0.6865 - acc: 0.5421 - val_loss: 0.6865 - val_acc: 0.5564\n",
            "Epoch 78/500\n",
            "34/34 [==============================] - 1s 16ms/step - loss: 0.6861 - acc: 0.5453 - val_loss: 0.6862 - val_acc: 0.5638\n",
            "Epoch 79/500\n",
            "34/34 [==============================] - 1s 15ms/step - loss: 0.6880 - acc: 0.5304 - val_loss: 0.6863 - val_acc: 0.5601\n",
            "Epoch 80/500\n",
            "34/34 [==============================] - 1s 16ms/step - loss: 0.6866 - acc: 0.5466 - val_loss: 0.6861 - val_acc: 0.5676\n",
            "Epoch 81/500\n",
            "34/34 [==============================] - 1s 16ms/step - loss: 0.6865 - acc: 0.5585 - val_loss: 0.6863 - val_acc: 0.5592\n",
            "Epoch 82/500\n",
            "34/34 [==============================] - 1s 15ms/step - loss: 0.6855 - acc: 0.5498 - val_loss: 0.6858 - val_acc: 0.5638\n",
            "Epoch 83/500\n",
            "34/34 [==============================] - 1s 16ms/step - loss: 0.6863 - acc: 0.5619 - val_loss: 0.6860 - val_acc: 0.5610\n",
            "Epoch 84/500\n",
            "34/34 [==============================] - 1s 16ms/step - loss: 0.6851 - acc: 0.5604 - val_loss: 0.6856 - val_acc: 0.5582\n",
            "Epoch 85/500\n",
            "34/34 [==============================] - 1s 15ms/step - loss: 0.6859 - acc: 0.5550 - val_loss: 0.6853 - val_acc: 0.5610\n",
            "Epoch 86/500\n",
            "34/34 [==============================] - 1s 15ms/step - loss: 0.6847 - acc: 0.5557 - val_loss: 0.6855 - val_acc: 0.5648\n",
            "Epoch 87/500\n",
            "34/34 [==============================] - 1s 15ms/step - loss: 0.6838 - acc: 0.5606 - val_loss: 0.6854 - val_acc: 0.5573\n",
            "Epoch 88/500\n",
            "34/34 [==============================] - 1s 16ms/step - loss: 0.6859 - acc: 0.5440 - val_loss: 0.6850 - val_acc: 0.5694\n",
            "Epoch 89/500\n",
            "34/34 [==============================] - 1s 15ms/step - loss: 0.6862 - acc: 0.5420 - val_loss: 0.6852 - val_acc: 0.5601\n",
            "Epoch 90/500\n",
            "34/34 [==============================] - 1s 16ms/step - loss: 0.6850 - acc: 0.5609 - val_loss: 0.6853 - val_acc: 0.5629\n",
            "Epoch 91/500\n",
            "34/34 [==============================] - 1s 15ms/step - loss: 0.6838 - acc: 0.5591 - val_loss: 0.6847 - val_acc: 0.5648\n",
            "Epoch 92/500\n",
            "34/34 [==============================] - 1s 15ms/step - loss: 0.6847 - acc: 0.5528 - val_loss: 0.6847 - val_acc: 0.5694\n",
            "Epoch 93/500\n",
            "34/34 [==============================] - 1s 15ms/step - loss: 0.6837 - acc: 0.5652 - val_loss: 0.6846 - val_acc: 0.5629\n",
            "Epoch 94/500\n",
            "34/34 [==============================] - 1s 16ms/step - loss: 0.6846 - acc: 0.5575 - val_loss: 0.6848 - val_acc: 0.5582\n",
            "Epoch 95/500\n",
            "34/34 [==============================] - 1s 15ms/step - loss: 0.6857 - acc: 0.5462 - val_loss: 0.6853 - val_acc: 0.5648\n",
            "Epoch 96/500\n",
            "34/34 [==============================] - 1s 16ms/step - loss: 0.6829 - acc: 0.5537 - val_loss: 0.6842 - val_acc: 0.5694\n",
            "Epoch 97/500\n",
            "34/34 [==============================] - 1s 16ms/step - loss: 0.6825 - acc: 0.5754 - val_loss: 0.6842 - val_acc: 0.5694\n",
            "Epoch 98/500\n",
            "34/34 [==============================] - 1s 16ms/step - loss: 0.6829 - acc: 0.5732 - val_loss: 0.6846 - val_acc: 0.5564\n",
            "Epoch 99/500\n",
            "34/34 [==============================] - 1s 15ms/step - loss: 0.6856 - acc: 0.5469 - val_loss: 0.6843 - val_acc: 0.5610\n",
            "Epoch 100/500\n",
            "34/34 [==============================] - 1s 15ms/step - loss: 0.6859 - acc: 0.5492 - val_loss: 0.6841 - val_acc: 0.5694\n",
            "Epoch 101/500\n",
            "34/34 [==============================] - 1s 15ms/step - loss: 0.6824 - acc: 0.5643 - val_loss: 0.6837 - val_acc: 0.5666\n",
            "Epoch 102/500\n",
            "34/34 [==============================] - 1s 16ms/step - loss: 0.6836 - acc: 0.5648 - val_loss: 0.6837 - val_acc: 0.5657\n",
            "Epoch 103/500\n",
            "34/34 [==============================] - 1s 15ms/step - loss: 0.6843 - acc: 0.5512 - val_loss: 0.6835 - val_acc: 0.5741\n",
            "Epoch 104/500\n",
            "34/34 [==============================] - 1s 15ms/step - loss: 0.6822 - acc: 0.5685 - val_loss: 0.6836 - val_acc: 0.5704\n",
            "Epoch 105/500\n",
            "34/34 [==============================] - 1s 16ms/step - loss: 0.6843 - acc: 0.5644 - val_loss: 0.6842 - val_acc: 0.5582\n",
            "Epoch 106/500\n",
            "34/34 [==============================] - 1s 15ms/step - loss: 0.6816 - acc: 0.5605 - val_loss: 0.6831 - val_acc: 0.5704\n",
            "Epoch 107/500\n",
            "34/34 [==============================] - 1s 16ms/step - loss: 0.6824 - acc: 0.5708 - val_loss: 0.6834 - val_acc: 0.5704\n",
            "Epoch 108/500\n",
            "34/34 [==============================] - 1s 16ms/step - loss: 0.6824 - acc: 0.5636 - val_loss: 0.6830 - val_acc: 0.5713\n",
            "Epoch 109/500\n",
            "34/34 [==============================] - 1s 15ms/step - loss: 0.6812 - acc: 0.5652 - val_loss: 0.6828 - val_acc: 0.5788\n",
            "Epoch 110/500\n",
            "34/34 [==============================] - 1s 16ms/step - loss: 0.6829 - acc: 0.5716 - val_loss: 0.6830 - val_acc: 0.5694\n",
            "Epoch 111/500\n",
            "34/34 [==============================] - 1s 16ms/step - loss: 0.6840 - acc: 0.5678 - val_loss: 0.6835 - val_acc: 0.5638\n",
            "Epoch 112/500\n",
            "34/34 [==============================] - 1s 16ms/step - loss: 0.6820 - acc: 0.5622 - val_loss: 0.6823 - val_acc: 0.5685\n",
            "Epoch 113/500\n",
            "34/34 [==============================] - 1s 16ms/step - loss: 0.6797 - acc: 0.5742 - val_loss: 0.6821 - val_acc: 0.5760\n",
            "Epoch 114/500\n",
            "34/34 [==============================] - 1s 15ms/step - loss: 0.6809 - acc: 0.5764 - val_loss: 0.6823 - val_acc: 0.5638\n",
            "Epoch 115/500\n",
            "34/34 [==============================] - 1s 17ms/step - loss: 0.6821 - acc: 0.5629 - val_loss: 0.6822 - val_acc: 0.5713\n",
            "Epoch 116/500\n",
            "34/34 [==============================] - 1s 16ms/step - loss: 0.6807 - acc: 0.5649 - val_loss: 0.6820 - val_acc: 0.5685\n",
            "Epoch 117/500\n",
            "34/34 [==============================] - 1s 16ms/step - loss: 0.6814 - acc: 0.5658 - val_loss: 0.6821 - val_acc: 0.5704\n",
            "Epoch 118/500\n",
            "34/34 [==============================] - 1s 16ms/step - loss: 0.6790 - acc: 0.5725 - val_loss: 0.6813 - val_acc: 0.5741\n",
            "Epoch 119/500\n",
            "34/34 [==============================] - 1s 15ms/step - loss: 0.6835 - acc: 0.5739 - val_loss: 0.6818 - val_acc: 0.5704\n",
            "Epoch 120/500\n",
            "34/34 [==============================] - 1s 16ms/step - loss: 0.6812 - acc: 0.5571 - val_loss: 0.6811 - val_acc: 0.6002\n",
            "Epoch 121/500\n",
            "34/34 [==============================] - 1s 15ms/step - loss: 0.6819 - acc: 0.5824 - val_loss: 0.6817 - val_acc: 0.5694\n",
            "Epoch 122/500\n",
            "34/34 [==============================] - 1s 15ms/step - loss: 0.6797 - acc: 0.5640 - val_loss: 0.6806 - val_acc: 0.5853\n",
            "Epoch 123/500\n",
            "34/34 [==============================] - 1s 15ms/step - loss: 0.6809 - acc: 0.5752 - val_loss: 0.6806 - val_acc: 0.5769\n",
            "Epoch 124/500\n",
            "34/34 [==============================] - 1s 16ms/step - loss: 0.6794 - acc: 0.5780 - val_loss: 0.6804 - val_acc: 0.5834\n",
            "Epoch 125/500\n",
            "34/34 [==============================] - 1s 16ms/step - loss: 0.6797 - acc: 0.5718 - val_loss: 0.6799 - val_acc: 0.5825\n",
            "Epoch 126/500\n",
            "34/34 [==============================] - 1s 16ms/step - loss: 0.6810 - acc: 0.5714 - val_loss: 0.6807 - val_acc: 0.5694\n",
            "Epoch 127/500\n",
            "34/34 [==============================] - 1s 15ms/step - loss: 0.6801 - acc: 0.5643 - val_loss: 0.6794 - val_acc: 0.5815\n",
            "Epoch 128/500\n",
            "34/34 [==============================] - 1s 16ms/step - loss: 0.6803 - acc: 0.5634 - val_loss: 0.6801 - val_acc: 0.5815\n",
            "Epoch 129/500\n",
            "34/34 [==============================] - 1s 16ms/step - loss: 0.6782 - acc: 0.5704 - val_loss: 0.6792 - val_acc: 0.5890\n",
            "Epoch 130/500\n",
            "34/34 [==============================] - 1s 16ms/step - loss: 0.6766 - acc: 0.5899 - val_loss: 0.6791 - val_acc: 0.5993\n",
            "Epoch 131/500\n",
            "34/34 [==============================] - 1s 16ms/step - loss: 0.6790 - acc: 0.5842 - val_loss: 0.6784 - val_acc: 0.5862\n",
            "Epoch 132/500\n",
            "34/34 [==============================] - 1s 16ms/step - loss: 0.6786 - acc: 0.5812 - val_loss: 0.6814 - val_acc: 0.5638\n",
            "Epoch 133/500\n",
            "34/34 [==============================] - 1s 16ms/step - loss: 0.6786 - acc: 0.5641 - val_loss: 0.6783 - val_acc: 0.6002\n",
            "Epoch 134/500\n",
            "34/34 [==============================] - 1s 15ms/step - loss: 0.6787 - acc: 0.5744 - val_loss: 0.6784 - val_acc: 0.5955\n",
            "Epoch 135/500\n",
            "34/34 [==============================] - 1s 16ms/step - loss: 0.6763 - acc: 0.5796 - val_loss: 0.6778 - val_acc: 0.5890\n",
            "Epoch 136/500\n",
            "34/34 [==============================] - 1s 16ms/step - loss: 0.6750 - acc: 0.5918 - val_loss: 0.6782 - val_acc: 0.5853\n",
            "Epoch 137/500\n",
            "34/34 [==============================] - 1s 16ms/step - loss: 0.6759 - acc: 0.5873 - val_loss: 0.6777 - val_acc: 0.5797\n",
            "Epoch 138/500\n",
            "34/34 [==============================] - 1s 15ms/step - loss: 0.6771 - acc: 0.5866 - val_loss: 0.6779 - val_acc: 0.5750\n",
            "Epoch 139/500\n",
            "34/34 [==============================] - 1s 16ms/step - loss: 0.6784 - acc: 0.5904 - val_loss: 0.6786 - val_acc: 0.5722\n",
            "Epoch 140/500\n",
            "34/34 [==============================] - 1s 16ms/step - loss: 0.6770 - acc: 0.5722 - val_loss: 0.6772 - val_acc: 0.5918\n",
            "Epoch 141/500\n",
            "34/34 [==============================] - 1s 16ms/step - loss: 0.6742 - acc: 0.5882 - val_loss: 0.6767 - val_acc: 0.5853\n",
            "Epoch 142/500\n",
            "34/34 [==============================] - 1s 16ms/step - loss: 0.6740 - acc: 0.5819 - val_loss: 0.6763 - val_acc: 0.5862\n",
            "Epoch 143/500\n",
            "34/34 [==============================] - 1s 16ms/step - loss: 0.6754 - acc: 0.5945 - val_loss: 0.6763 - val_acc: 0.5881\n",
            "Epoch 144/500\n",
            "34/34 [==============================] - 1s 16ms/step - loss: 0.6731 - acc: 0.5916 - val_loss: 0.6765 - val_acc: 0.5927\n",
            "Epoch 145/500\n",
            "34/34 [==============================] - 1s 16ms/step - loss: 0.6758 - acc: 0.5773 - val_loss: 0.6755 - val_acc: 0.5843\n",
            "Epoch 146/500\n",
            "34/34 [==============================] - 1s 16ms/step - loss: 0.6708 - acc: 0.5988 - val_loss: 0.6749 - val_acc: 0.5853\n",
            "Epoch 147/500\n",
            "34/34 [==============================] - 1s 16ms/step - loss: 0.6719 - acc: 0.6045 - val_loss: 0.6755 - val_acc: 0.5937\n",
            "Epoch 148/500\n",
            "34/34 [==============================] - 1s 16ms/step - loss: 0.6735 - acc: 0.5907 - val_loss: 0.6766 - val_acc: 0.5760\n",
            "Epoch 149/500\n",
            "34/34 [==============================] - 1s 16ms/step - loss: 0.6754 - acc: 0.5943 - val_loss: 0.6761 - val_acc: 0.5806\n",
            "Epoch 150/500\n",
            "34/34 [==============================] - 1s 15ms/step - loss: 0.6746 - acc: 0.5801 - val_loss: 0.6754 - val_acc: 0.5937\n",
            "Epoch 151/500\n",
            "34/34 [==============================] - 1s 16ms/step - loss: 0.6730 - acc: 0.5961 - val_loss: 0.6766 - val_acc: 0.5788\n",
            "Epoch 152/500\n",
            "34/34 [==============================] - 1s 16ms/step - loss: 0.6718 - acc: 0.5852 - val_loss: 0.6740 - val_acc: 0.6160\n",
            "Epoch 153/500\n",
            "34/34 [==============================] - 1s 16ms/step - loss: 0.6711 - acc: 0.6066 - val_loss: 0.6753 - val_acc: 0.5825\n",
            "Epoch 154/500\n",
            "34/34 [==============================] - 1s 15ms/step - loss: 0.6726 - acc: 0.5845 - val_loss: 0.6736 - val_acc: 0.5974\n",
            "Epoch 155/500\n",
            "34/34 [==============================] - 1s 16ms/step - loss: 0.6719 - acc: 0.5950 - val_loss: 0.6736 - val_acc: 0.5955\n",
            "Epoch 156/500\n",
            "34/34 [==============================] - 1s 16ms/step - loss: 0.6707 - acc: 0.5999 - val_loss: 0.6733 - val_acc: 0.5899\n",
            "Epoch 157/500\n",
            "34/34 [==============================] - 1s 15ms/step - loss: 0.6711 - acc: 0.6042 - val_loss: 0.6731 - val_acc: 0.5955\n",
            "Epoch 158/500\n",
            "34/34 [==============================] - 1s 16ms/step - loss: 0.6687 - acc: 0.6006 - val_loss: 0.6719 - val_acc: 0.6086\n",
            "Epoch 159/500\n",
            "34/34 [==============================] - 1s 15ms/step - loss: 0.6716 - acc: 0.5904 - val_loss: 0.6727 - val_acc: 0.5955\n",
            "Epoch 160/500\n",
            "34/34 [==============================] - 1s 15ms/step - loss: 0.6703 - acc: 0.6029 - val_loss: 0.6732 - val_acc: 0.5825\n",
            "Epoch 161/500\n",
            "34/34 [==============================] - 1s 15ms/step - loss: 0.6666 - acc: 0.6055 - val_loss: 0.6712 - val_acc: 0.6104\n",
            "Epoch 162/500\n",
            "34/34 [==============================] - 1s 16ms/step - loss: 0.6683 - acc: 0.6042 - val_loss: 0.6723 - val_acc: 0.6160\n",
            "Epoch 163/500\n",
            "34/34 [==============================] - 1s 16ms/step - loss: 0.6697 - acc: 0.6014 - val_loss: 0.6709 - val_acc: 0.5955\n",
            "Epoch 164/500\n",
            "34/34 [==============================] - 1s 16ms/step - loss: 0.6723 - acc: 0.5833 - val_loss: 0.6705 - val_acc: 0.6086\n",
            "Epoch 165/500\n",
            "34/34 [==============================] - 1s 16ms/step - loss: 0.6680 - acc: 0.5981 - val_loss: 0.6714 - val_acc: 0.5946\n",
            "Epoch 166/500\n",
            "34/34 [==============================] - 1s 16ms/step - loss: 0.6704 - acc: 0.5871 - val_loss: 0.6704 - val_acc: 0.5974\n",
            "Epoch 167/500\n",
            "34/34 [==============================] - 1s 16ms/step - loss: 0.6669 - acc: 0.5948 - val_loss: 0.6699 - val_acc: 0.6095\n",
            "Epoch 168/500\n",
            "34/34 [==============================] - 1s 16ms/step - loss: 0.6687 - acc: 0.6031 - val_loss: 0.6704 - val_acc: 0.5955\n",
            "Epoch 169/500\n",
            "34/34 [==============================] - 1s 16ms/step - loss: 0.6673 - acc: 0.6065 - val_loss: 0.6691 - val_acc: 0.6142\n",
            "Epoch 170/500\n",
            "34/34 [==============================] - 1s 16ms/step - loss: 0.6689 - acc: 0.6023 - val_loss: 0.6694 - val_acc: 0.6021\n",
            "Epoch 171/500\n",
            "34/34 [==============================] - 1s 16ms/step - loss: 0.6671 - acc: 0.6005 - val_loss: 0.6695 - val_acc: 0.6002\n",
            "Epoch 172/500\n",
            "34/34 [==============================] - 1s 16ms/step - loss: 0.6685 - acc: 0.6029 - val_loss: 0.6687 - val_acc: 0.6104\n",
            "Epoch 173/500\n",
            "34/34 [==============================] - 1s 17ms/step - loss: 0.6696 - acc: 0.6020 - val_loss: 0.6678 - val_acc: 0.6123\n",
            "Epoch 174/500\n",
            "34/34 [==============================] - 1s 16ms/step - loss: 0.6656 - acc: 0.6038 - val_loss: 0.6682 - val_acc: 0.6030\n",
            "Epoch 175/500\n",
            "34/34 [==============================] - 1s 16ms/step - loss: 0.6672 - acc: 0.5931 - val_loss: 0.6676 - val_acc: 0.6104\n",
            "Epoch 176/500\n",
            "34/34 [==============================] - 1s 17ms/step - loss: 0.6652 - acc: 0.5962 - val_loss: 0.6670 - val_acc: 0.6095\n",
            "Epoch 177/500\n",
            "34/34 [==============================] - 1s 16ms/step - loss: 0.6656 - acc: 0.5910 - val_loss: 0.6676 - val_acc: 0.6067\n",
            "Epoch 178/500\n",
            "34/34 [==============================] - 1s 15ms/step - loss: 0.6631 - acc: 0.6091 - val_loss: 0.6672 - val_acc: 0.6058\n",
            "Epoch 179/500\n",
            "34/34 [==============================] - 1s 16ms/step - loss: 0.6635 - acc: 0.6075 - val_loss: 0.6685 - val_acc: 0.5918\n",
            "Epoch 180/500\n",
            "34/34 [==============================] - 1s 16ms/step - loss: 0.6641 - acc: 0.6058 - val_loss: 0.6667 - val_acc: 0.6030\n",
            "Epoch 181/500\n",
            "34/34 [==============================] - 1s 16ms/step - loss: 0.6635 - acc: 0.5999 - val_loss: 0.6662 - val_acc: 0.6104\n",
            "Epoch 182/500\n",
            "34/34 [==============================] - 1s 17ms/step - loss: 0.6615 - acc: 0.6047 - val_loss: 0.6655 - val_acc: 0.6160\n",
            "Epoch 183/500\n",
            "34/34 [==============================] - 1s 16ms/step - loss: 0.6608 - acc: 0.6068 - val_loss: 0.6649 - val_acc: 0.6198\n",
            "Epoch 184/500\n",
            "34/34 [==============================] - 1s 16ms/step - loss: 0.6636 - acc: 0.6047 - val_loss: 0.6648 - val_acc: 0.6207\n",
            "Epoch 185/500\n",
            "34/34 [==============================] - 1s 15ms/step - loss: 0.6613 - acc: 0.6033 - val_loss: 0.6643 - val_acc: 0.6095\n",
            "Epoch 186/500\n",
            "34/34 [==============================] - 1s 16ms/step - loss: 0.6592 - acc: 0.6052 - val_loss: 0.6638 - val_acc: 0.6160\n",
            "Epoch 187/500\n",
            "34/34 [==============================] - 1s 16ms/step - loss: 0.6628 - acc: 0.6055 - val_loss: 0.6635 - val_acc: 0.6188\n",
            "Epoch 188/500\n",
            "34/34 [==============================] - 1s 16ms/step - loss: 0.6613 - acc: 0.6031 - val_loss: 0.6625 - val_acc: 0.6179\n",
            "Epoch 189/500\n",
            "34/34 [==============================] - 1s 16ms/step - loss: 0.6584 - acc: 0.6173 - val_loss: 0.6631 - val_acc: 0.6114\n",
            "Epoch 190/500\n",
            "34/34 [==============================] - 1s 16ms/step - loss: 0.6593 - acc: 0.6173 - val_loss: 0.6644 - val_acc: 0.6048\n",
            "Epoch 191/500\n",
            "34/34 [==============================] - 1s 17ms/step - loss: 0.6590 - acc: 0.6185 - val_loss: 0.6634 - val_acc: 0.6076\n",
            "Epoch 192/500\n",
            "34/34 [==============================] - 1s 16ms/step - loss: 0.6570 - acc: 0.6068 - val_loss: 0.6620 - val_acc: 0.6188\n",
            "Epoch 193/500\n",
            "34/34 [==============================] - 1s 16ms/step - loss: 0.6590 - acc: 0.6154 - val_loss: 0.6622 - val_acc: 0.6104\n",
            "Epoch 194/500\n",
            "34/34 [==============================] - 1s 16ms/step - loss: 0.6610 - acc: 0.6158 - val_loss: 0.6633 - val_acc: 0.6058\n",
            "Epoch 195/500\n",
            "34/34 [==============================] - 1s 17ms/step - loss: 0.6609 - acc: 0.6094 - val_loss: 0.6619 - val_acc: 0.6048\n",
            "Epoch 196/500\n",
            "34/34 [==============================] - 1s 16ms/step - loss: 0.6599 - acc: 0.6129 - val_loss: 0.6636 - val_acc: 0.6030\n",
            "Epoch 197/500\n",
            "34/34 [==============================] - 1s 16ms/step - loss: 0.6584 - acc: 0.6069 - val_loss: 0.6628 - val_acc: 0.6086\n",
            "Epoch 198/500\n",
            "34/34 [==============================] - 1s 16ms/step - loss: 0.6569 - acc: 0.6046 - val_loss: 0.6602 - val_acc: 0.6300\n",
            "Epoch 199/500\n",
            "34/34 [==============================] - 1s 16ms/step - loss: 0.6584 - acc: 0.6151 - val_loss: 0.6612 - val_acc: 0.6076\n",
            "Epoch 200/500\n",
            "34/34 [==============================] - 1s 16ms/step - loss: 0.6573 - acc: 0.6029 - val_loss: 0.6597 - val_acc: 0.6179\n",
            "Epoch 201/500\n",
            "34/34 [==============================] - 1s 16ms/step - loss: 0.6560 - acc: 0.6231 - val_loss: 0.6595 - val_acc: 0.6216\n",
            "Epoch 202/500\n",
            "34/34 [==============================] - 1s 16ms/step - loss: 0.6572 - acc: 0.6106 - val_loss: 0.6652 - val_acc: 0.6011\n",
            "Epoch 203/500\n",
            "34/34 [==============================] - 1s 15ms/step - loss: 0.6580 - acc: 0.6018 - val_loss: 0.6591 - val_acc: 0.6179\n",
            "Epoch 204/500\n",
            "34/34 [==============================] - 1s 16ms/step - loss: 0.6569 - acc: 0.6162 - val_loss: 0.6575 - val_acc: 0.6142\n",
            "Epoch 205/500\n",
            "34/34 [==============================] - 1s 18ms/step - loss: 0.6536 - acc: 0.6268 - val_loss: 0.6578 - val_acc: 0.6291\n",
            "Epoch 206/500\n",
            "34/34 [==============================] - 1s 16ms/step - loss: 0.6517 - acc: 0.6242 - val_loss: 0.6573 - val_acc: 0.6263\n",
            "Epoch 207/500\n",
            "34/34 [==============================] - 1s 16ms/step - loss: 0.6547 - acc: 0.6162 - val_loss: 0.6574 - val_acc: 0.6207\n",
            "Epoch 208/500\n",
            "34/34 [==============================] - 1s 17ms/step - loss: 0.6550 - acc: 0.6147 - val_loss: 0.6569 - val_acc: 0.6281\n",
            "Epoch 209/500\n",
            "34/34 [==============================] - 1s 16ms/step - loss: 0.6542 - acc: 0.6107 - val_loss: 0.6566 - val_acc: 0.6207\n",
            "Epoch 210/500\n",
            "34/34 [==============================] - 1s 18ms/step - loss: 0.6521 - acc: 0.6092 - val_loss: 0.6564 - val_acc: 0.6328\n",
            "Epoch 211/500\n",
            "34/34 [==============================] - 1s 16ms/step - loss: 0.6512 - acc: 0.6358 - val_loss: 0.6551 - val_acc: 0.6253\n",
            "Epoch 212/500\n",
            "34/34 [==============================] - 1s 17ms/step - loss: 0.6539 - acc: 0.6112 - val_loss: 0.6556 - val_acc: 0.6356\n",
            "Epoch 213/500\n",
            "34/34 [==============================] - 1s 16ms/step - loss: 0.6514 - acc: 0.6167 - val_loss: 0.6553 - val_acc: 0.6179\n",
            "Epoch 214/500\n",
            "34/34 [==============================] - 1s 16ms/step - loss: 0.6483 - acc: 0.6314 - val_loss: 0.6554 - val_acc: 0.6253\n",
            "Epoch 215/500\n",
            "34/34 [==============================] - 1s 17ms/step - loss: 0.6488 - acc: 0.6268 - val_loss: 0.6556 - val_acc: 0.6226\n",
            "Epoch 216/500\n",
            "34/34 [==============================] - 1s 16ms/step - loss: 0.6475 - acc: 0.6282 - val_loss: 0.6542 - val_acc: 0.6356\n",
            "Epoch 217/500\n",
            "34/34 [==============================] - 1s 17ms/step - loss: 0.6517 - acc: 0.6302 - val_loss: 0.6545 - val_acc: 0.6207\n",
            "Epoch 218/500\n",
            "34/34 [==============================] - 1s 16ms/step - loss: 0.6512 - acc: 0.6303 - val_loss: 0.6537 - val_acc: 0.6291\n",
            "Epoch 219/500\n",
            "34/34 [==============================] - 1s 16ms/step - loss: 0.6475 - acc: 0.6279 - val_loss: 0.6537 - val_acc: 0.6179\n",
            "Epoch 220/500\n",
            "34/34 [==============================] - 1s 17ms/step - loss: 0.6480 - acc: 0.6212 - val_loss: 0.6515 - val_acc: 0.6281\n",
            "Epoch 221/500\n",
            "34/34 [==============================] - 1s 16ms/step - loss: 0.6478 - acc: 0.6362 - val_loss: 0.6526 - val_acc: 0.6235\n",
            "Epoch 222/500\n",
            "34/34 [==============================] - 1s 17ms/step - loss: 0.6492 - acc: 0.6192 - val_loss: 0.6571 - val_acc: 0.6132\n",
            "Epoch 223/500\n",
            "34/34 [==============================] - 1s 16ms/step - loss: 0.6472 - acc: 0.6257 - val_loss: 0.6531 - val_acc: 0.6235\n",
            "Epoch 224/500\n",
            "34/34 [==============================] - 1s 16ms/step - loss: 0.6453 - acc: 0.6221 - val_loss: 0.6524 - val_acc: 0.6272\n",
            "Epoch 225/500\n",
            "34/34 [==============================] - 1s 16ms/step - loss: 0.6478 - acc: 0.6180 - val_loss: 0.6579 - val_acc: 0.6170\n",
            "Epoch 226/500\n",
            "34/34 [==============================] - 1s 17ms/step - loss: 0.6482 - acc: 0.6182 - val_loss: 0.6505 - val_acc: 0.6263\n",
            "Epoch 227/500\n",
            "34/34 [==============================] - 1s 15ms/step - loss: 0.6489 - acc: 0.6299 - val_loss: 0.6502 - val_acc: 0.6328\n",
            "Epoch 228/500\n",
            "34/34 [==============================] - 1s 17ms/step - loss: 0.6479 - acc: 0.6196 - val_loss: 0.6565 - val_acc: 0.6160\n",
            "Epoch 229/500\n",
            "34/34 [==============================] - 1s 16ms/step - loss: 0.6466 - acc: 0.6156 - val_loss: 0.6510 - val_acc: 0.6263\n",
            "Epoch 230/500\n",
            "34/34 [==============================] - 1s 16ms/step - loss: 0.6455 - acc: 0.6310 - val_loss: 0.6490 - val_acc: 0.6309\n",
            "Epoch 231/500\n",
            "34/34 [==============================] - 1s 16ms/step - loss: 0.6459 - acc: 0.6374 - val_loss: 0.6491 - val_acc: 0.6291\n",
            "Epoch 232/500\n",
            "34/34 [==============================] - 1s 16ms/step - loss: 0.6454 - acc: 0.6241 - val_loss: 0.6488 - val_acc: 0.6440\n",
            "Epoch 233/500\n",
            "34/34 [==============================] - 1s 16ms/step - loss: 0.6456 - acc: 0.6339 - val_loss: 0.6511 - val_acc: 0.6272\n",
            "Epoch 234/500\n",
            "34/34 [==============================] - 1s 16ms/step - loss: 0.6469 - acc: 0.6281 - val_loss: 0.6494 - val_acc: 0.6300\n",
            "Epoch 235/500\n",
            "34/34 [==============================] - 1s 16ms/step - loss: 0.6423 - acc: 0.6299 - val_loss: 0.6486 - val_acc: 0.6365\n",
            "Epoch 236/500\n",
            "34/34 [==============================] - 1s 16ms/step - loss: 0.6424 - acc: 0.6287 - val_loss: 0.6475 - val_acc: 0.6207\n",
            "Epoch 237/500\n",
            "34/34 [==============================] - 1s 16ms/step - loss: 0.6454 - acc: 0.6216 - val_loss: 0.6467 - val_acc: 0.6179\n",
            "Epoch 238/500\n",
            "34/34 [==============================] - 1s 16ms/step - loss: 0.6413 - acc: 0.6380 - val_loss: 0.6475 - val_acc: 0.6347\n",
            "Epoch 239/500\n",
            "34/34 [==============================] - 1s 16ms/step - loss: 0.6401 - acc: 0.6393 - val_loss: 0.6491 - val_acc: 0.6170\n",
            "Epoch 240/500\n",
            "34/34 [==============================] - 1s 16ms/step - loss: 0.6430 - acc: 0.6317 - val_loss: 0.6503 - val_acc: 0.6337\n",
            "Epoch 241/500\n",
            "34/34 [==============================] - 1s 16ms/step - loss: 0.6400 - acc: 0.6334 - val_loss: 0.6463 - val_acc: 0.6449\n",
            "Epoch 242/500\n",
            "34/34 [==============================] - 1s 16ms/step - loss: 0.6408 - acc: 0.6294 - val_loss: 0.6446 - val_acc: 0.6365\n",
            "Epoch 243/500\n",
            "34/34 [==============================] - 1s 16ms/step - loss: 0.6382 - acc: 0.6467 - val_loss: 0.6441 - val_acc: 0.6365\n",
            "Epoch 244/500\n",
            "34/34 [==============================] - 1s 16ms/step - loss: 0.6421 - acc: 0.6292 - val_loss: 0.6454 - val_acc: 0.6393\n",
            "Epoch 245/500\n",
            "34/34 [==============================] - 1s 16ms/step - loss: 0.6400 - acc: 0.6330 - val_loss: 0.6467 - val_acc: 0.6347\n",
            "Epoch 246/500\n",
            "34/34 [==============================] - 1s 16ms/step - loss: 0.6363 - acc: 0.6271 - val_loss: 0.6481 - val_acc: 0.6319\n",
            "Epoch 247/500\n",
            "34/34 [==============================] - 1s 17ms/step - loss: 0.6384 - acc: 0.6353 - val_loss: 0.6428 - val_acc: 0.6384\n",
            "Epoch 248/500\n",
            "34/34 [==============================] - 1s 16ms/step - loss: 0.6353 - acc: 0.6559 - val_loss: 0.6471 - val_acc: 0.6300\n",
            "Epoch 249/500\n",
            "34/34 [==============================] - 1s 16ms/step - loss: 0.6391 - acc: 0.6338 - val_loss: 0.6473 - val_acc: 0.6328\n",
            "Epoch 250/500\n",
            "34/34 [==============================] - 1s 17ms/step - loss: 0.6396 - acc: 0.6271 - val_loss: 0.6422 - val_acc: 0.6365\n",
            "Epoch 251/500\n",
            "34/34 [==============================] - 1s 16ms/step - loss: 0.6414 - acc: 0.6458 - val_loss: 0.6423 - val_acc: 0.6403\n",
            "Epoch 252/500\n",
            "34/34 [==============================] - 1s 16ms/step - loss: 0.6361 - acc: 0.6402 - val_loss: 0.6424 - val_acc: 0.6459\n",
            "Epoch 253/500\n",
            "34/34 [==============================] - 1s 16ms/step - loss: 0.6394 - acc: 0.6371 - val_loss: 0.6423 - val_acc: 0.6412\n",
            "Epoch 254/500\n",
            "34/34 [==============================] - 1s 16ms/step - loss: 0.6382 - acc: 0.6393 - val_loss: 0.6432 - val_acc: 0.6393\n",
            "Epoch 255/500\n",
            "34/34 [==============================] - 1s 16ms/step - loss: 0.6320 - acc: 0.6460 - val_loss: 0.6412 - val_acc: 0.6365\n",
            "Epoch 256/500\n",
            "34/34 [==============================] - 1s 16ms/step - loss: 0.6353 - acc: 0.6436 - val_loss: 0.6449 - val_acc: 0.6235\n",
            "Epoch 257/500\n",
            "34/34 [==============================] - 1s 17ms/step - loss: 0.6384 - acc: 0.6410 - val_loss: 0.6418 - val_acc: 0.6347\n",
            "Epoch 258/500\n",
            "34/34 [==============================] - 1s 16ms/step - loss: 0.6384 - acc: 0.6275 - val_loss: 0.6426 - val_acc: 0.6375\n",
            "Epoch 259/500\n",
            "34/34 [==============================] - 1s 16ms/step - loss: 0.6352 - acc: 0.6370 - val_loss: 0.6397 - val_acc: 0.6440\n",
            "Epoch 260/500\n",
            "34/34 [==============================] - 1s 16ms/step - loss: 0.6375 - acc: 0.6311 - val_loss: 0.6388 - val_acc: 0.6440\n",
            "Epoch 261/500\n",
            "34/34 [==============================] - 1s 16ms/step - loss: 0.6383 - acc: 0.6283 - val_loss: 0.6397 - val_acc: 0.6486\n",
            "Epoch 262/500\n",
            "34/34 [==============================] - 1s 16ms/step - loss: 0.6322 - acc: 0.6439 - val_loss: 0.6397 - val_acc: 0.6431\n",
            "Epoch 263/500\n",
            "34/34 [==============================] - 1s 16ms/step - loss: 0.6384 - acc: 0.6411 - val_loss: 0.6404 - val_acc: 0.6412\n",
            "Epoch 264/500\n",
            "34/34 [==============================] - 1s 17ms/step - loss: 0.6311 - acc: 0.6389 - val_loss: 0.6381 - val_acc: 0.6421\n",
            "Epoch 265/500\n",
            "34/34 [==============================] - 1s 16ms/step - loss: 0.6349 - acc: 0.6294 - val_loss: 0.6401 - val_acc: 0.6356\n",
            "Epoch 266/500\n",
            "34/34 [==============================] - 1s 17ms/step - loss: 0.6315 - acc: 0.6475 - val_loss: 0.6388 - val_acc: 0.6393\n",
            "Epoch 267/500\n",
            "34/34 [==============================] - 1s 16ms/step - loss: 0.6356 - acc: 0.6367 - val_loss: 0.6392 - val_acc: 0.6431\n",
            "Epoch 268/500\n",
            "34/34 [==============================] - 1s 16ms/step - loss: 0.6305 - acc: 0.6325 - val_loss: 0.6399 - val_acc: 0.6403\n",
            "Epoch 269/500\n",
            "34/34 [==============================] - 1s 16ms/step - loss: 0.6341 - acc: 0.6404 - val_loss: 0.6360 - val_acc: 0.6459\n",
            "Epoch 270/500\n",
            "34/34 [==============================] - 1s 16ms/step - loss: 0.6330 - acc: 0.6402 - val_loss: 0.6372 - val_acc: 0.6440\n",
            "Epoch 271/500\n",
            "34/34 [==============================] - 1s 16ms/step - loss: 0.6348 - acc: 0.6462 - val_loss: 0.6393 - val_acc: 0.6412\n",
            "Epoch 272/500\n",
            "34/34 [==============================] - 1s 16ms/step - loss: 0.6290 - acc: 0.6388 - val_loss: 0.6355 - val_acc: 0.6477\n",
            "Epoch 273/500\n",
            "34/34 [==============================] - 1s 16ms/step - loss: 0.6306 - acc: 0.6345 - val_loss: 0.6366 - val_acc: 0.6524\n",
            "Epoch 274/500\n",
            "34/34 [==============================] - 1s 16ms/step - loss: 0.6276 - acc: 0.6444 - val_loss: 0.6429 - val_acc: 0.6449\n",
            "Epoch 275/500\n",
            "34/34 [==============================] - 1s 15ms/step - loss: 0.6311 - acc: 0.6350 - val_loss: 0.6346 - val_acc: 0.6505\n",
            "Epoch 276/500\n",
            "34/34 [==============================] - 1s 16ms/step - loss: 0.6314 - acc: 0.6378 - val_loss: 0.6352 - val_acc: 0.6496\n",
            "Epoch 277/500\n",
            "34/34 [==============================] - 1s 16ms/step - loss: 0.6266 - acc: 0.6562 - val_loss: 0.6355 - val_acc: 0.6393\n",
            "Epoch 278/500\n",
            "34/34 [==============================] - 1s 16ms/step - loss: 0.6304 - acc: 0.6489 - val_loss: 0.6367 - val_acc: 0.6403\n",
            "Epoch 279/500\n",
            "34/34 [==============================] - 1s 16ms/step - loss: 0.6272 - acc: 0.6570 - val_loss: 0.6365 - val_acc: 0.6440\n",
            "Epoch 280/500\n",
            "34/34 [==============================] - 1s 16ms/step - loss: 0.6261 - acc: 0.6518 - val_loss: 0.6326 - val_acc: 0.6393\n",
            "Epoch 281/500\n",
            "34/34 [==============================] - 1s 16ms/step - loss: 0.6258 - acc: 0.6421 - val_loss: 0.6332 - val_acc: 0.6412\n",
            "Epoch 282/500\n",
            "34/34 [==============================] - 1s 17ms/step - loss: 0.6227 - acc: 0.6625 - val_loss: 0.6335 - val_acc: 0.6496\n",
            "Epoch 283/500\n",
            "34/34 [==============================] - 1s 16ms/step - loss: 0.6309 - acc: 0.6274 - val_loss: 0.6318 - val_acc: 0.6412\n",
            "Epoch 284/500\n",
            "34/34 [==============================] - 1s 17ms/step - loss: 0.6268 - acc: 0.6625 - val_loss: 0.6381 - val_acc: 0.6384\n",
            "Epoch 285/500\n",
            "34/34 [==============================] - 1s 16ms/step - loss: 0.6324 - acc: 0.6487 - val_loss: 0.6323 - val_acc: 0.6514\n",
            "Epoch 286/500\n",
            "34/34 [==============================] - 1s 16ms/step - loss: 0.6233 - acc: 0.6619 - val_loss: 0.6375 - val_acc: 0.6477\n",
            "Epoch 287/500\n",
            "34/34 [==============================] - 1s 17ms/step - loss: 0.6286 - acc: 0.6321 - val_loss: 0.6328 - val_acc: 0.6459\n",
            "Epoch 288/500\n",
            "34/34 [==============================] - 1s 16ms/step - loss: 0.6236 - acc: 0.6434 - val_loss: 0.6324 - val_acc: 0.6421\n",
            "Epoch 289/500\n",
            "34/34 [==============================] - 1s 16ms/step - loss: 0.6353 - acc: 0.6498 - val_loss: 0.6344 - val_acc: 0.6375\n",
            "Epoch 290/500\n",
            "34/34 [==============================] - 1s 17ms/step - loss: 0.6252 - acc: 0.6395 - val_loss: 0.6333 - val_acc: 0.6477\n",
            "Epoch 291/500\n",
            "34/34 [==============================] - 1s 17ms/step - loss: 0.6311 - acc: 0.6322 - val_loss: 0.6305 - val_acc: 0.6524\n",
            "Epoch 292/500\n",
            "34/34 [==============================] - 1s 17ms/step - loss: 0.6221 - acc: 0.6508 - val_loss: 0.6344 - val_acc: 0.6440\n",
            "Epoch 293/500\n",
            "34/34 [==============================] - 1s 16ms/step - loss: 0.6205 - acc: 0.6424 - val_loss: 0.6300 - val_acc: 0.6365\n",
            "Epoch 294/500\n",
            "34/34 [==============================] - 1s 16ms/step - loss: 0.6343 - acc: 0.6333 - val_loss: 0.6299 - val_acc: 0.6617\n",
            "Epoch 295/500\n",
            "34/34 [==============================] - 1s 17ms/step - loss: 0.6225 - acc: 0.6557 - val_loss: 0.6319 - val_acc: 0.6561\n",
            "Epoch 296/500\n",
            "34/34 [==============================] - 1s 16ms/step - loss: 0.6257 - acc: 0.6383 - val_loss: 0.6311 - val_acc: 0.6542\n",
            "Epoch 297/500\n",
            "34/34 [==============================] - 1s 17ms/step - loss: 0.6303 - acc: 0.6422 - val_loss: 0.6285 - val_acc: 0.6570\n",
            "Epoch 298/500\n",
            "34/34 [==============================] - 1s 16ms/step - loss: 0.6267 - acc: 0.6509 - val_loss: 0.6290 - val_acc: 0.6533\n",
            "Epoch 299/500\n",
            "34/34 [==============================] - 1s 16ms/step - loss: 0.6212 - acc: 0.6586 - val_loss: 0.6266 - val_acc: 0.6505\n",
            "Epoch 300/500\n",
            "34/34 [==============================] - 1s 17ms/step - loss: 0.6225 - acc: 0.6437 - val_loss: 0.6272 - val_acc: 0.6477\n",
            "Epoch 301/500\n",
            "34/34 [==============================] - 1s 16ms/step - loss: 0.6206 - acc: 0.6516 - val_loss: 0.6349 - val_acc: 0.6421\n",
            "Epoch 302/500\n",
            "34/34 [==============================] - 1s 17ms/step - loss: 0.6233 - acc: 0.6436 - val_loss: 0.6272 - val_acc: 0.6496\n",
            "Epoch 303/500\n",
            "34/34 [==============================] - 1s 17ms/step - loss: 0.6191 - acc: 0.6603 - val_loss: 0.6323 - val_acc: 0.6356\n",
            "Epoch 304/500\n",
            "34/34 [==============================] - 1s 17ms/step - loss: 0.6228 - acc: 0.6430 - val_loss: 0.6250 - val_acc: 0.6542\n",
            "Epoch 305/500\n",
            "34/34 [==============================] - 1s 16ms/step - loss: 0.6208 - acc: 0.6547 - val_loss: 0.6298 - val_acc: 0.6459\n",
            "Epoch 306/500\n",
            "34/34 [==============================] - 1s 17ms/step - loss: 0.6219 - acc: 0.6380 - val_loss: 0.6287 - val_acc: 0.6505\n",
            "Epoch 307/500\n",
            "34/34 [==============================] - 1s 16ms/step - loss: 0.6211 - acc: 0.6545 - val_loss: 0.6268 - val_acc: 0.6608\n",
            "Epoch 308/500\n",
            "34/34 [==============================] - 1s 16ms/step - loss: 0.6251 - acc: 0.6516 - val_loss: 0.6269 - val_acc: 0.6626\n",
            "Epoch 309/500\n",
            "34/34 [==============================] - 1s 17ms/step - loss: 0.6194 - acc: 0.6522 - val_loss: 0.6235 - val_acc: 0.6645\n",
            "Epoch 310/500\n",
            "34/34 [==============================] - 1s 17ms/step - loss: 0.6211 - acc: 0.6592 - val_loss: 0.6243 - val_acc: 0.6533\n",
            "Epoch 311/500\n",
            "34/34 [==============================] - 1s 17ms/step - loss: 0.6209 - acc: 0.6468 - val_loss: 0.6259 - val_acc: 0.6598\n",
            "Epoch 312/500\n",
            "34/34 [==============================] - 1s 17ms/step - loss: 0.6186 - acc: 0.6635 - val_loss: 0.6235 - val_acc: 0.6692\n",
            "Epoch 313/500\n",
            "34/34 [==============================] - 1s 16ms/step - loss: 0.6146 - acc: 0.6584 - val_loss: 0.6254 - val_acc: 0.6626\n",
            "Epoch 314/500\n",
            "34/34 [==============================] - 1s 17ms/step - loss: 0.6140 - acc: 0.6673 - val_loss: 0.6230 - val_acc: 0.6701\n",
            "Epoch 315/500\n",
            "34/34 [==============================] - 1s 17ms/step - loss: 0.6141 - acc: 0.6713 - val_loss: 0.6257 - val_acc: 0.6561\n",
            "Epoch 316/500\n",
            "34/34 [==============================] - 1s 16ms/step - loss: 0.6153 - acc: 0.6696 - val_loss: 0.6242 - val_acc: 0.6636\n",
            "Epoch 317/500\n",
            "34/34 [==============================] - 1s 17ms/step - loss: 0.6189 - acc: 0.6577 - val_loss: 0.6255 - val_acc: 0.6580\n",
            "Epoch 318/500\n",
            "34/34 [==============================] - 1s 17ms/step - loss: 0.6204 - acc: 0.6628 - val_loss: 0.6228 - val_acc: 0.6682\n",
            "Epoch 319/500\n",
            "34/34 [==============================] - 1s 17ms/step - loss: 0.6217 - acc: 0.6585 - val_loss: 0.6233 - val_acc: 0.6664\n",
            "Epoch 320/500\n",
            "34/34 [==============================] - 1s 17ms/step - loss: 0.6112 - acc: 0.6617 - val_loss: 0.6232 - val_acc: 0.6608\n",
            "Epoch 321/500\n",
            "34/34 [==============================] - 1s 16ms/step - loss: 0.6134 - acc: 0.6708 - val_loss: 0.6289 - val_acc: 0.6524\n",
            "Epoch 322/500\n",
            "34/34 [==============================] - 1s 16ms/step - loss: 0.6163 - acc: 0.6757 - val_loss: 0.6207 - val_acc: 0.6570\n",
            "Epoch 323/500\n",
            "34/34 [==============================] - 1s 16ms/step - loss: 0.6165 - acc: 0.6546 - val_loss: 0.6238 - val_acc: 0.6505\n",
            "Epoch 324/500\n",
            "34/34 [==============================] - 1s 16ms/step - loss: 0.6179 - acc: 0.6578 - val_loss: 0.6204 - val_acc: 0.6617\n",
            "Epoch 325/500\n",
            "34/34 [==============================] - 1s 17ms/step - loss: 0.6120 - acc: 0.6676 - val_loss: 0.6187 - val_acc: 0.6636\n",
            "Epoch 326/500\n",
            "34/34 [==============================] - 1s 17ms/step - loss: 0.6083 - acc: 0.6699 - val_loss: 0.6220 - val_acc: 0.6673\n",
            "Epoch 327/500\n",
            "34/34 [==============================] - 1s 16ms/step - loss: 0.6152 - acc: 0.6648 - val_loss: 0.6185 - val_acc: 0.6608\n",
            "Epoch 328/500\n",
            "34/34 [==============================] - 1s 17ms/step - loss: 0.6094 - acc: 0.6569 - val_loss: 0.6200 - val_acc: 0.6617\n",
            "Epoch 329/500\n",
            "34/34 [==============================] - 1s 17ms/step - loss: 0.6119 - acc: 0.6702 - val_loss: 0.6216 - val_acc: 0.6552\n",
            "Epoch 330/500\n",
            "34/34 [==============================] - 1s 17ms/step - loss: 0.6160 - acc: 0.6552 - val_loss: 0.6205 - val_acc: 0.6570\n",
            "Epoch 331/500\n",
            "34/34 [==============================] - 1s 17ms/step - loss: 0.6113 - acc: 0.6657 - val_loss: 0.6177 - val_acc: 0.6496\n",
            "Epoch 332/500\n",
            "34/34 [==============================] - 1s 17ms/step - loss: 0.6203 - acc: 0.6496 - val_loss: 0.6237 - val_acc: 0.6729\n",
            "Epoch 333/500\n",
            "34/34 [==============================] - 1s 17ms/step - loss: 0.6131 - acc: 0.6645 - val_loss: 0.6168 - val_acc: 0.6692\n",
            "Epoch 334/500\n",
            "34/34 [==============================] - 1s 16ms/step - loss: 0.6190 - acc: 0.6624 - val_loss: 0.6222 - val_acc: 0.6533\n",
            "Epoch 335/500\n",
            "34/34 [==============================] - 1s 17ms/step - loss: 0.6140 - acc: 0.6552 - val_loss: 0.6255 - val_acc: 0.6319\n",
            "Epoch 336/500\n",
            "34/34 [==============================] - 1s 17ms/step - loss: 0.6170 - acc: 0.6523 - val_loss: 0.6170 - val_acc: 0.6636\n",
            "Epoch 337/500\n",
            "34/34 [==============================] - 1s 17ms/step - loss: 0.6116 - acc: 0.6595 - val_loss: 0.6160 - val_acc: 0.6701\n",
            "Epoch 338/500\n",
            "34/34 [==============================] - 1s 18ms/step - loss: 0.6118 - acc: 0.6595 - val_loss: 0.6169 - val_acc: 0.6682\n",
            "Epoch 339/500\n",
            "34/34 [==============================] - 1s 16ms/step - loss: 0.6147 - acc: 0.6628 - val_loss: 0.6220 - val_acc: 0.6626\n",
            "Epoch 340/500\n",
            "34/34 [==============================] - 1s 17ms/step - loss: 0.6131 - acc: 0.6597 - val_loss: 0.6142 - val_acc: 0.6757\n",
            "Epoch 341/500\n",
            "34/34 [==============================] - 1s 17ms/step - loss: 0.6084 - acc: 0.6637 - val_loss: 0.6195 - val_acc: 0.6505\n",
            "Epoch 342/500\n",
            "34/34 [==============================] - 1s 17ms/step - loss: 0.6113 - acc: 0.6633 - val_loss: 0.6195 - val_acc: 0.6775\n",
            "Epoch 343/500\n",
            "34/34 [==============================] - 1s 17ms/step - loss: 0.6151 - acc: 0.6603 - val_loss: 0.6143 - val_acc: 0.6664\n",
            "Epoch 344/500\n",
            "34/34 [==============================] - 1s 16ms/step - loss: 0.6057 - acc: 0.6867 - val_loss: 0.6156 - val_acc: 0.6729\n",
            "Epoch 345/500\n",
            "34/34 [==============================] - 1s 17ms/step - loss: 0.6107 - acc: 0.6884 - val_loss: 0.6139 - val_acc: 0.6747\n",
            "Epoch 346/500\n",
            "34/34 [==============================] - 1s 16ms/step - loss: 0.6102 - acc: 0.6712 - val_loss: 0.6157 - val_acc: 0.6673\n",
            "Epoch 347/500\n",
            "34/34 [==============================] - 1s 17ms/step - loss: 0.6026 - acc: 0.6634 - val_loss: 0.6149 - val_acc: 0.6701\n",
            "Epoch 348/500\n",
            "34/34 [==============================] - 1s 16ms/step - loss: 0.6090 - acc: 0.6694 - val_loss: 0.6151 - val_acc: 0.6701\n",
            "Epoch 349/500\n",
            "34/34 [==============================] - 1s 16ms/step - loss: 0.6061 - acc: 0.6668 - val_loss: 0.6243 - val_acc: 0.6598\n",
            "Epoch 350/500\n",
            "34/34 [==============================] - 1s 17ms/step - loss: 0.6083 - acc: 0.6553 - val_loss: 0.6123 - val_acc: 0.6803\n",
            "Epoch 351/500\n",
            "34/34 [==============================] - 1s 16ms/step - loss: 0.6108 - acc: 0.6727 - val_loss: 0.6129 - val_acc: 0.6757\n",
            "Epoch 352/500\n",
            "34/34 [==============================] - 1s 17ms/step - loss: 0.6083 - acc: 0.6659 - val_loss: 0.6140 - val_acc: 0.6747\n",
            "Epoch 353/500\n",
            "34/34 [==============================] - 1s 16ms/step - loss: 0.6050 - acc: 0.6736 - val_loss: 0.6105 - val_acc: 0.6757\n",
            "Epoch 354/500\n",
            "34/34 [==============================] - 1s 17ms/step - loss: 0.6117 - acc: 0.6787 - val_loss: 0.6219 - val_acc: 0.6692\n",
            "Epoch 355/500\n",
            "34/34 [==============================] - 1s 16ms/step - loss: 0.6093 - acc: 0.6612 - val_loss: 0.6113 - val_acc: 0.6785\n",
            "Epoch 356/500\n",
            "34/34 [==============================] - 1s 17ms/step - loss: 0.6071 - acc: 0.6819 - val_loss: 0.6157 - val_acc: 0.6710\n",
            "Epoch 357/500\n",
            "34/34 [==============================] - 1s 17ms/step - loss: 0.6021 - acc: 0.6767 - val_loss: 0.6098 - val_acc: 0.6729\n",
            "Epoch 358/500\n",
            "34/34 [==============================] - 1s 17ms/step - loss: 0.6021 - acc: 0.6938 - val_loss: 0.6112 - val_acc: 0.6617\n",
            "Epoch 359/500\n",
            "34/34 [==============================] - 1s 17ms/step - loss: 0.6076 - acc: 0.6651 - val_loss: 0.6148 - val_acc: 0.6775\n",
            "Epoch 360/500\n",
            "34/34 [==============================] - 1s 17ms/step - loss: 0.6163 - acc: 0.6586 - val_loss: 0.6154 - val_acc: 0.6813\n",
            "Epoch 361/500\n",
            "34/34 [==============================] - 1s 17ms/step - loss: 0.5971 - acc: 0.6862 - val_loss: 0.6103 - val_acc: 0.6692\n",
            "Epoch 362/500\n",
            "34/34 [==============================] - 1s 17ms/step - loss: 0.6094 - acc: 0.6799 - val_loss: 0.6130 - val_acc: 0.6831\n",
            "Epoch 363/500\n",
            "34/34 [==============================] - 1s 17ms/step - loss: 0.6030 - acc: 0.6774 - val_loss: 0.6157 - val_acc: 0.6682\n",
            "Epoch 364/500\n",
            "34/34 [==============================] - 1s 17ms/step - loss: 0.6089 - acc: 0.6682 - val_loss: 0.6078 - val_acc: 0.6925\n",
            "Epoch 365/500\n",
            "34/34 [==============================] - 1s 16ms/step - loss: 0.6065 - acc: 0.6894 - val_loss: 0.6072 - val_acc: 0.6822\n",
            "Epoch 366/500\n",
            "34/34 [==============================] - 1s 17ms/step - loss: 0.5968 - acc: 0.6896 - val_loss: 0.6094 - val_acc: 0.6664\n",
            "Epoch 367/500\n",
            "34/34 [==============================] - 1s 16ms/step - loss: 0.6049 - acc: 0.6771 - val_loss: 0.6102 - val_acc: 0.6617\n",
            "Epoch 368/500\n",
            "34/34 [==============================] - 1s 17ms/step - loss: 0.6016 - acc: 0.6825 - val_loss: 0.6131 - val_acc: 0.6831\n",
            "Epoch 369/500\n",
            "34/34 [==============================] - 1s 17ms/step - loss: 0.6033 - acc: 0.6830 - val_loss: 0.6057 - val_acc: 0.6775\n",
            "Epoch 370/500\n",
            "34/34 [==============================] - 1s 17ms/step - loss: 0.6017 - acc: 0.6816 - val_loss: 0.6090 - val_acc: 0.6692\n",
            "Epoch 371/500\n",
            "34/34 [==============================] - 1s 16ms/step - loss: 0.6013 - acc: 0.6729 - val_loss: 0.6065 - val_acc: 0.6878\n",
            "Epoch 372/500\n",
            "34/34 [==============================] - 1s 18ms/step - loss: 0.6024 - acc: 0.6799 - val_loss: 0.6058 - val_acc: 0.6859\n",
            "Epoch 373/500\n",
            "34/34 [==============================] - 1s 17ms/step - loss: 0.6022 - acc: 0.6969 - val_loss: 0.6110 - val_acc: 0.6561\n",
            "Epoch 374/500\n",
            "34/34 [==============================] - 1s 18ms/step - loss: 0.6018 - acc: 0.6731 - val_loss: 0.6079 - val_acc: 0.6794\n",
            "Epoch 375/500\n",
            "34/34 [==============================] - 1s 17ms/step - loss: 0.6000 - acc: 0.6729 - val_loss: 0.6104 - val_acc: 0.6673\n",
            "Epoch 376/500\n",
            "34/34 [==============================] - 1s 17ms/step - loss: 0.6006 - acc: 0.6787 - val_loss: 0.6097 - val_acc: 0.6813\n",
            "Epoch 377/500\n",
            "34/34 [==============================] - 1s 17ms/step - loss: 0.6062 - acc: 0.6615 - val_loss: 0.6078 - val_acc: 0.6729\n",
            "Epoch 378/500\n",
            "34/34 [==============================] - 1s 17ms/step - loss: 0.6030 - acc: 0.6728 - val_loss: 0.6060 - val_acc: 0.6710\n",
            "Epoch 379/500\n",
            "34/34 [==============================] - 1s 18ms/step - loss: 0.6007 - acc: 0.6697 - val_loss: 0.6076 - val_acc: 0.6719\n",
            "Epoch 380/500\n",
            "34/34 [==============================] - 1s 17ms/step - loss: 0.5976 - acc: 0.6681 - val_loss: 0.6121 - val_acc: 0.6617\n",
            "Epoch 381/500\n",
            "34/34 [==============================] - 1s 17ms/step - loss: 0.6000 - acc: 0.6744 - val_loss: 0.6096 - val_acc: 0.6431\n",
            "Epoch 382/500\n",
            "34/34 [==============================] - 1s 17ms/step - loss: 0.5961 - acc: 0.6709 - val_loss: 0.6119 - val_acc: 0.6524\n",
            "Epoch 383/500\n",
            "34/34 [==============================] - 1s 16ms/step - loss: 0.6042 - acc: 0.6697 - val_loss: 0.6049 - val_acc: 0.6692\n",
            "Epoch 384/500\n",
            "34/34 [==============================] - 1s 16ms/step - loss: 0.5999 - acc: 0.6801 - val_loss: 0.6051 - val_acc: 0.6794\n",
            "Epoch 385/500\n",
            "34/34 [==============================] - 1s 17ms/step - loss: 0.6012 - acc: 0.6768 - val_loss: 0.6060 - val_acc: 0.6831\n",
            "Epoch 386/500\n",
            "34/34 [==============================] - 1s 16ms/step - loss: 0.5911 - acc: 0.7015 - val_loss: 0.6109 - val_acc: 0.6598\n",
            "Epoch 387/500\n",
            "34/34 [==============================] - 1s 17ms/step - loss: 0.6033 - acc: 0.6720 - val_loss: 0.6148 - val_acc: 0.6589\n",
            "Epoch 388/500\n",
            "34/34 [==============================] - 1s 17ms/step - loss: 0.6001 - acc: 0.6823 - val_loss: 0.6028 - val_acc: 0.6943\n",
            "Epoch 389/500\n",
            "34/34 [==============================] - 1s 17ms/step - loss: 0.6032 - acc: 0.6785 - val_loss: 0.6028 - val_acc: 0.6682\n",
            "Epoch 390/500\n",
            "34/34 [==============================] - 1s 17ms/step - loss: 0.5932 - acc: 0.6899 - val_loss: 0.6025 - val_acc: 0.6943\n",
            "Epoch 391/500\n",
            "34/34 [==============================] - 1s 17ms/step - loss: 0.5964 - acc: 0.6911 - val_loss: 0.6063 - val_acc: 0.6915\n",
            "Epoch 392/500\n",
            "34/34 [==============================] - 1s 17ms/step - loss: 0.5980 - acc: 0.6844 - val_loss: 0.6027 - val_acc: 0.6757\n",
            "Epoch 393/500\n",
            "34/34 [==============================] - 1s 17ms/step - loss: 0.5963 - acc: 0.6837 - val_loss: 0.6115 - val_acc: 0.6626\n",
            "Epoch 394/500\n",
            "34/34 [==============================] - 1s 18ms/step - loss: 0.6022 - acc: 0.6802 - val_loss: 0.6014 - val_acc: 0.6869\n",
            "Epoch 395/500\n",
            "34/34 [==============================] - 1s 17ms/step - loss: 0.5976 - acc: 0.6784 - val_loss: 0.6074 - val_acc: 0.6729\n",
            "Epoch 396/500\n",
            "34/34 [==============================] - 1s 18ms/step - loss: 0.5996 - acc: 0.6744 - val_loss: 0.6007 - val_acc: 0.6701\n",
            "Epoch 397/500\n",
            "34/34 [==============================] - 1s 18ms/step - loss: 0.5932 - acc: 0.6823 - val_loss: 0.6036 - val_acc: 0.6747\n",
            "Epoch 398/500\n",
            "34/34 [==============================] - 1s 17ms/step - loss: 0.5926 - acc: 0.6881 - val_loss: 0.6059 - val_acc: 0.6813\n",
            "Epoch 399/500\n",
            "34/34 [==============================] - 1s 17ms/step - loss: 0.5926 - acc: 0.6837 - val_loss: 0.6022 - val_acc: 0.6897\n",
            "Epoch 400/500\n",
            "34/34 [==============================] - 1s 16ms/step - loss: 0.6031 - acc: 0.6739 - val_loss: 0.6033 - val_acc: 0.6813\n",
            "Epoch 401/500\n",
            "34/34 [==============================] - 1s 17ms/step - loss: 0.6060 - acc: 0.6754 - val_loss: 0.6031 - val_acc: 0.6887\n",
            "Epoch 402/500\n",
            "34/34 [==============================] - 1s 17ms/step - loss: 0.6072 - acc: 0.6766 - val_loss: 0.6019 - val_acc: 0.6785\n",
            "Epoch 403/500\n",
            "34/34 [==============================] - 1s 19ms/step - loss: 0.5940 - acc: 0.6821 - val_loss: 0.5977 - val_acc: 0.6887\n",
            "Epoch 404/500\n",
            "34/34 [==============================] - 1s 18ms/step - loss: 0.5937 - acc: 0.6867 - val_loss: 0.6045 - val_acc: 0.6654\n",
            "Epoch 405/500\n",
            "34/34 [==============================] - 1s 18ms/step - loss: 0.5966 - acc: 0.6738 - val_loss: 0.6019 - val_acc: 0.6841\n",
            "Epoch 406/500\n",
            "34/34 [==============================] - 1s 17ms/step - loss: 0.5958 - acc: 0.6743 - val_loss: 0.6111 - val_acc: 0.6654\n",
            "Epoch 407/500\n",
            "34/34 [==============================] - 1s 17ms/step - loss: 0.5926 - acc: 0.6879 - val_loss: 0.5997 - val_acc: 0.6962\n",
            "Epoch 408/500\n",
            "34/34 [==============================] - 1s 17ms/step - loss: 0.5902 - acc: 0.7013 - val_loss: 0.5984 - val_acc: 0.6934\n",
            "Epoch 409/500\n",
            "34/34 [==============================] - 1s 19ms/step - loss: 0.5976 - acc: 0.6838 - val_loss: 0.5989 - val_acc: 0.6822\n",
            "Epoch 410/500\n",
            "34/34 [==============================] - 1s 17ms/step - loss: 0.5883 - acc: 0.6774 - val_loss: 0.6116 - val_acc: 0.6729\n",
            "Epoch 411/500\n",
            "34/34 [==============================] - 1s 17ms/step - loss: 0.5890 - acc: 0.6929 - val_loss: 0.5999 - val_acc: 0.6999\n",
            "Epoch 412/500\n",
            "34/34 [==============================] - 1s 18ms/step - loss: 0.5924 - acc: 0.6932 - val_loss: 0.5960 - val_acc: 0.6990\n",
            "Epoch 413/500\n",
            "34/34 [==============================] - 1s 17ms/step - loss: 0.5920 - acc: 0.6894 - val_loss: 0.6006 - val_acc: 0.6841\n",
            "Epoch 414/500\n",
            "34/34 [==============================] - 1s 17ms/step - loss: 0.5832 - acc: 0.6982 - val_loss: 0.6003 - val_acc: 0.6831\n",
            "Epoch 415/500\n",
            "34/34 [==============================] - 1s 17ms/step - loss: 0.5816 - acc: 0.6963 - val_loss: 0.5969 - val_acc: 0.6915\n",
            "Epoch 416/500\n",
            "34/34 [==============================] - 1s 16ms/step - loss: 0.5900 - acc: 0.6876 - val_loss: 0.6024 - val_acc: 0.6971\n",
            "Epoch 417/500\n",
            "34/34 [==============================] - 1s 17ms/step - loss: 0.5868 - acc: 0.6937 - val_loss: 0.5959 - val_acc: 0.6878\n",
            "Epoch 418/500\n",
            "34/34 [==============================] - 1s 17ms/step - loss: 0.5912 - acc: 0.6990 - val_loss: 0.5942 - val_acc: 0.6990\n",
            "Epoch 419/500\n",
            "34/34 [==============================] - 1s 17ms/step - loss: 0.5902 - acc: 0.7039 - val_loss: 0.6018 - val_acc: 0.6813\n",
            "Epoch 420/500\n",
            "34/34 [==============================] - 1s 16ms/step - loss: 0.5846 - acc: 0.6930 - val_loss: 0.5971 - val_acc: 0.6925\n",
            "Epoch 421/500\n",
            "34/34 [==============================] - 1s 17ms/step - loss: 0.5863 - acc: 0.6901 - val_loss: 0.5974 - val_acc: 0.6785\n",
            "Epoch 422/500\n",
            "34/34 [==============================] - 1s 17ms/step - loss: 0.5916 - acc: 0.6933 - val_loss: 0.5946 - val_acc: 0.7046\n",
            "Epoch 423/500\n",
            "34/34 [==============================] - 1s 17ms/step - loss: 0.5874 - acc: 0.6945 - val_loss: 0.5944 - val_acc: 0.6906\n",
            "Epoch 424/500\n",
            "34/34 [==============================] - 1s 17ms/step - loss: 0.5893 - acc: 0.6975 - val_loss: 0.5942 - val_acc: 0.6934\n",
            "Epoch 425/500\n",
            "34/34 [==============================] - 1s 17ms/step - loss: 0.5911 - acc: 0.6833 - val_loss: 0.5956 - val_acc: 0.7008\n",
            "Epoch 426/500\n",
            "34/34 [==============================] - 1s 17ms/step - loss: 0.5929 - acc: 0.6943 - val_loss: 0.5925 - val_acc: 0.6952\n",
            "Epoch 427/500\n",
            "34/34 [==============================] - 1s 17ms/step - loss: 0.5891 - acc: 0.6926 - val_loss: 0.5951 - val_acc: 0.6869\n",
            "Epoch 428/500\n",
            "34/34 [==============================] - 1s 17ms/step - loss: 0.5965 - acc: 0.6845 - val_loss: 0.5929 - val_acc: 0.7008\n",
            "Epoch 429/500\n",
            "34/34 [==============================] - 1s 17ms/step - loss: 0.5936 - acc: 0.7039 - val_loss: 0.6026 - val_acc: 0.6542\n",
            "Epoch 430/500\n",
            "34/34 [==============================] - 1s 17ms/step - loss: 0.5948 - acc: 0.6898 - val_loss: 0.6078 - val_acc: 0.6757\n",
            "Epoch 431/500\n",
            "34/34 [==============================] - 1s 17ms/step - loss: 0.5830 - acc: 0.6975 - val_loss: 0.5929 - val_acc: 0.6962\n",
            "Epoch 432/500\n",
            "34/34 [==============================] - 1s 17ms/step - loss: 0.5789 - acc: 0.7106 - val_loss: 0.6061 - val_acc: 0.6412\n",
            "Epoch 433/500\n",
            "34/34 [==============================] - 1s 17ms/step - loss: 0.5951 - acc: 0.6795 - val_loss: 0.5932 - val_acc: 0.6869\n",
            "Epoch 434/500\n",
            "34/34 [==============================] - 1s 17ms/step - loss: 0.5929 - acc: 0.6868 - val_loss: 0.5921 - val_acc: 0.7008\n",
            "Epoch 435/500\n",
            "34/34 [==============================] - 1s 17ms/step - loss: 0.5888 - acc: 0.7077 - val_loss: 0.5936 - val_acc: 0.6915\n",
            "Epoch 436/500\n",
            "34/34 [==============================] - 1s 17ms/step - loss: 0.5882 - acc: 0.7035 - val_loss: 0.5962 - val_acc: 0.6813\n",
            "Epoch 437/500\n",
            "34/34 [==============================] - 1s 18ms/step - loss: 0.5805 - acc: 0.6897 - val_loss: 0.5974 - val_acc: 0.6850\n",
            "Epoch 438/500\n",
            "34/34 [==============================] - 1s 18ms/step - loss: 0.5808 - acc: 0.6981 - val_loss: 0.5913 - val_acc: 0.6934\n",
            "Epoch 439/500\n",
            "34/34 [==============================] - 1s 17ms/step - loss: 0.5879 - acc: 0.6957 - val_loss: 0.5936 - val_acc: 0.7092\n",
            "Epoch 440/500\n",
            "34/34 [==============================] - 1s 17ms/step - loss: 0.5932 - acc: 0.6971 - val_loss: 0.5949 - val_acc: 0.6943\n",
            "Epoch 441/500\n",
            "34/34 [==============================] - 1s 17ms/step - loss: 0.5877 - acc: 0.6913 - val_loss: 0.5921 - val_acc: 0.6990\n",
            "Epoch 442/500\n",
            "34/34 [==============================] - 1s 17ms/step - loss: 0.5874 - acc: 0.6852 - val_loss: 0.5987 - val_acc: 0.6766\n",
            "Epoch 443/500\n",
            "34/34 [==============================] - 1s 17ms/step - loss: 0.5900 - acc: 0.6776 - val_loss: 0.5887 - val_acc: 0.6925\n",
            "Epoch 444/500\n",
            "34/34 [==============================] - 1s 17ms/step - loss: 0.5829 - acc: 0.7147 - val_loss: 0.5952 - val_acc: 0.6831\n",
            "Epoch 445/500\n",
            "34/34 [==============================] - 1s 18ms/step - loss: 0.5902 - acc: 0.6887 - val_loss: 0.5916 - val_acc: 0.7036\n",
            "Epoch 446/500\n",
            "34/34 [==============================] - 1s 17ms/step - loss: 0.5876 - acc: 0.6996 - val_loss: 0.5936 - val_acc: 0.6813\n",
            "Epoch 447/500\n",
            "34/34 [==============================] - 1s 18ms/step - loss: 0.5856 - acc: 0.6879 - val_loss: 0.5938 - val_acc: 0.6850\n",
            "Epoch 448/500\n",
            "34/34 [==============================] - 1s 18ms/step - loss: 0.5849 - acc: 0.6884 - val_loss: 0.5886 - val_acc: 0.6962\n",
            "Epoch 449/500\n",
            "34/34 [==============================] - 1s 18ms/step - loss: 0.5795 - acc: 0.7084 - val_loss: 0.5934 - val_acc: 0.6850\n",
            "Epoch 450/500\n",
            "34/34 [==============================] - 1s 17ms/step - loss: 0.5835 - acc: 0.6832 - val_loss: 0.5970 - val_acc: 0.6803\n",
            "Epoch 451/500\n",
            "34/34 [==============================] - 1s 17ms/step - loss: 0.5861 - acc: 0.6810 - val_loss: 0.5888 - val_acc: 0.6869\n",
            "Epoch 452/500\n",
            "34/34 [==============================] - 1s 17ms/step - loss: 0.5830 - acc: 0.6886 - val_loss: 0.5941 - val_acc: 0.6999\n",
            "Epoch 453/500\n",
            "34/34 [==============================] - 1s 17ms/step - loss: 0.5910 - acc: 0.7018 - val_loss: 0.5936 - val_acc: 0.7111\n",
            "Epoch 454/500\n",
            "34/34 [==============================] - 1s 18ms/step - loss: 0.5757 - acc: 0.6990 - val_loss: 0.5861 - val_acc: 0.6999\n",
            "Epoch 455/500\n",
            "34/34 [==============================] - 1s 17ms/step - loss: 0.5822 - acc: 0.7068 - val_loss: 0.5971 - val_acc: 0.6943\n",
            "Epoch 456/500\n",
            "34/34 [==============================] - 1s 17ms/step - loss: 0.5870 - acc: 0.6920 - val_loss: 0.5890 - val_acc: 0.6859\n",
            "Epoch 457/500\n",
            "34/34 [==============================] - 1s 17ms/step - loss: 0.5889 - acc: 0.6929 - val_loss: 0.5857 - val_acc: 0.7046\n",
            "Epoch 458/500\n",
            "34/34 [==============================] - 1s 17ms/step - loss: 0.5836 - acc: 0.7017 - val_loss: 0.5955 - val_acc: 0.7036\n",
            "Epoch 459/500\n",
            "34/34 [==============================] - 1s 17ms/step - loss: 0.5718 - acc: 0.7279 - val_loss: 0.5899 - val_acc: 0.6962\n",
            "Epoch 460/500\n",
            "34/34 [==============================] - 1s 17ms/step - loss: 0.5790 - acc: 0.6958 - val_loss: 0.5988 - val_acc: 0.6803\n",
            "Epoch 461/500\n",
            "34/34 [==============================] - 1s 17ms/step - loss: 0.5767 - acc: 0.6956 - val_loss: 0.5865 - val_acc: 0.7064\n",
            "Epoch 462/500\n",
            "34/34 [==============================] - 1s 17ms/step - loss: 0.5768 - acc: 0.7070 - val_loss: 0.5915 - val_acc: 0.6971\n",
            "Epoch 463/500\n",
            "34/34 [==============================] - 1s 17ms/step - loss: 0.5787 - acc: 0.6961 - val_loss: 0.5873 - val_acc: 0.6915\n",
            "Epoch 464/500\n",
            "34/34 [==============================] - 1s 17ms/step - loss: 0.5785 - acc: 0.6861 - val_loss: 0.5883 - val_acc: 0.7111\n",
            "Epoch 465/500\n",
            "34/34 [==============================] - 1s 17ms/step - loss: 0.5791 - acc: 0.7088 - val_loss: 0.5927 - val_acc: 0.6999\n",
            "Epoch 466/500\n",
            "34/34 [==============================] - 1s 18ms/step - loss: 0.5770 - acc: 0.6979 - val_loss: 0.5879 - val_acc: 0.7092\n",
            "Epoch 467/500\n",
            "34/34 [==============================] - 1s 18ms/step - loss: 0.5842 - acc: 0.6826 - val_loss: 0.5865 - val_acc: 0.7120\n",
            "Epoch 468/500\n",
            "34/34 [==============================] - 1s 19ms/step - loss: 0.5787 - acc: 0.7072 - val_loss: 0.5943 - val_acc: 0.6822\n",
            "Epoch 469/500\n",
            "34/34 [==============================] - 1s 19ms/step - loss: 0.5823 - acc: 0.7037 - val_loss: 0.5887 - val_acc: 0.7046\n",
            "Epoch 470/500\n",
            "34/34 [==============================] - 1s 17ms/step - loss: 0.5935 - acc: 0.6950 - val_loss: 0.5835 - val_acc: 0.6915\n",
            "Epoch 471/500\n",
            "34/34 [==============================] - 1s 18ms/step - loss: 0.5861 - acc: 0.6902 - val_loss: 0.5939 - val_acc: 0.7102\n",
            "Epoch 472/500\n",
            "34/34 [==============================] - 1s 18ms/step - loss: 0.5863 - acc: 0.6882 - val_loss: 0.5867 - val_acc: 0.7148\n",
            "Epoch 473/500\n",
            "34/34 [==============================] - 1s 18ms/step - loss: 0.5843 - acc: 0.7072 - val_loss: 0.5873 - val_acc: 0.7185\n",
            "Epoch 474/500\n",
            "34/34 [==============================] - 1s 18ms/step - loss: 0.5753 - acc: 0.7125 - val_loss: 0.5846 - val_acc: 0.7046\n",
            "Epoch 475/500\n",
            "34/34 [==============================] - 1s 18ms/step - loss: 0.5761 - acc: 0.7069 - val_loss: 0.5859 - val_acc: 0.7176\n",
            "Epoch 476/500\n",
            "34/34 [==============================] - 1s 17ms/step - loss: 0.5790 - acc: 0.6944 - val_loss: 0.5839 - val_acc: 0.6915\n",
            "Epoch 477/500\n",
            "34/34 [==============================] - 1s 17ms/step - loss: 0.5792 - acc: 0.6980 - val_loss: 0.5838 - val_acc: 0.7092\n",
            "Epoch 478/500\n",
            "34/34 [==============================] - 1s 17ms/step - loss: 0.5839 - acc: 0.7074 - val_loss: 0.5876 - val_acc: 0.7008\n",
            "Epoch 479/500\n",
            "34/34 [==============================] - 1s 18ms/step - loss: 0.5822 - acc: 0.7046 - val_loss: 0.5830 - val_acc: 0.7092\n",
            "Epoch 480/500\n",
            "34/34 [==============================] - 1s 18ms/step - loss: 0.5850 - acc: 0.7064 - val_loss: 0.5898 - val_acc: 0.6887\n",
            "Epoch 481/500\n",
            "34/34 [==============================] - 1s 17ms/step - loss: 0.5778 - acc: 0.6968 - val_loss: 0.5835 - val_acc: 0.7092\n",
            "Epoch 482/500\n",
            "34/34 [==============================] - 1s 17ms/step - loss: 0.5798 - acc: 0.7008 - val_loss: 0.5948 - val_acc: 0.6990\n",
            "Epoch 483/500\n",
            "34/34 [==============================] - 1s 17ms/step - loss: 0.5726 - acc: 0.7204 - val_loss: 0.5809 - val_acc: 0.7158\n",
            "Epoch 484/500\n",
            "34/34 [==============================] - 1s 17ms/step - loss: 0.5699 - acc: 0.7192 - val_loss: 0.5819 - val_acc: 0.6999\n",
            "Epoch 485/500\n",
            "34/34 [==============================] - 1s 17ms/step - loss: 0.5801 - acc: 0.7022 - val_loss: 0.5826 - val_acc: 0.7158\n",
            "Epoch 486/500\n",
            "34/34 [==============================] - 1s 17ms/step - loss: 0.5801 - acc: 0.7094 - val_loss: 0.5816 - val_acc: 0.7111\n",
            "Epoch 487/500\n",
            "34/34 [==============================] - 1s 17ms/step - loss: 0.5712 - acc: 0.7086 - val_loss: 0.5832 - val_acc: 0.7018\n",
            "Epoch 488/500\n",
            "34/34 [==============================] - 1s 18ms/step - loss: 0.5777 - acc: 0.6988 - val_loss: 0.5812 - val_acc: 0.6887\n",
            "Epoch 489/500\n",
            "34/34 [==============================] - 1s 17ms/step - loss: 0.5775 - acc: 0.6872 - val_loss: 0.5826 - val_acc: 0.6980\n",
            "Epoch 490/500\n",
            "34/34 [==============================] - 1s 18ms/step - loss: 0.5703 - acc: 0.7107 - val_loss: 0.5809 - val_acc: 0.7148\n",
            "Epoch 491/500\n",
            "34/34 [==============================] - 1s 17ms/step - loss: 0.5832 - acc: 0.6918 - val_loss: 0.5821 - val_acc: 0.7046\n",
            "Epoch 492/500\n",
            "34/34 [==============================] - 1s 18ms/step - loss: 0.5803 - acc: 0.7000 - val_loss: 0.5841 - val_acc: 0.6757\n",
            "Epoch 493/500\n",
            "34/34 [==============================] - 1s 17ms/step - loss: 0.5772 - acc: 0.7198 - val_loss: 0.5806 - val_acc: 0.6980\n",
            "Epoch 494/500\n",
            "34/34 [==============================] - 1s 18ms/step - loss: 0.5805 - acc: 0.7062 - val_loss: 0.5792 - val_acc: 0.6925\n",
            "Epoch 495/500\n",
            "34/34 [==============================] - 1s 18ms/step - loss: 0.5673 - acc: 0.7136 - val_loss: 0.5804 - val_acc: 0.6859\n",
            "Epoch 496/500\n",
            "34/34 [==============================] - 1s 18ms/step - loss: 0.5798 - acc: 0.7014 - val_loss: 0.5832 - val_acc: 0.6822\n",
            "Epoch 497/500\n",
            "34/34 [==============================] - 1s 18ms/step - loss: 0.5669 - acc: 0.7035 - val_loss: 0.5869 - val_acc: 0.6952\n",
            "Epoch 498/500\n",
            "34/34 [==============================] - 1s 19ms/step - loss: 0.5682 - acc: 0.7179 - val_loss: 0.5840 - val_acc: 0.6869\n",
            "Epoch 499/500\n",
            "34/34 [==============================] - 1s 17ms/step - loss: 0.5777 - acc: 0.6886 - val_loss: 0.5866 - val_acc: 0.7008\n",
            "Epoch 500/500\n",
            "34/34 [==============================] - 1s 17ms/step - loss: 0.5676 - acc: 0.7170 - val_loss: 0.5821 - val_acc: 0.6943\n"
          ],
          "name": "stdout"
        },
        {
          "output_type": "execute_result",
          "data": {
            "text/plain": [
              "<tensorflow.python.keras.callbacks.History at 0x7f4885263290>"
            ]
          },
          "metadata": {
            "tags": []
          },
          "execution_count": 153
        }
      ]
    },
    {
      "cell_type": "code",
      "metadata": {
        "id": "QrlIunXx-hR0"
      },
      "source": [
        "dnn_predict = model.predict(x_test)\n",
        "dnn_predict = round(pd.DataFrame((dnn_predict)))"
      ],
      "execution_count": 154,
      "outputs": []
    },
    {
      "cell_type": "code",
      "metadata": {
        "colab": {
          "base_uri": "https://localhost:8080/",
          "height": 443
        },
        "id": "zi0mZ1XkIXjJ",
        "outputId": "48e0578d-c0d7-40d7-cbd9-5dd518feb334"
      },
      "source": [
        "#confusion matrix for DNN \n",
        "cm_rf = confusion_matrix(y_test, dnn_predict)\n",
        "print(cm_rf)\n",
        "plt.figure(figsize=(8,6))\n",
        "plt.title('Confusion Matrix', size=16)\n",
        "sns.heatmap(cm_rf, annot=True, cmap='Blues')\n"
      ],
      "execution_count": 155,
      "outputs": [
        {
          "output_type": "stream",
          "text": [
            "[[265 255]\n",
            " [ 73 480]]\n"
          ],
          "name": "stdout"
        },
        {
          "output_type": "execute_result",
          "data": {
            "text/plain": [
              "<matplotlib.axes._subplots.AxesSubplot at 0x7f4883caad10>"
            ]
          },
          "metadata": {
            "tags": []
          },
          "execution_count": 155
        },
        {
          "output_type": "display_data",
          "data": {
            "image/png": "[encoded data removed]",
            "text/plain": [
              "<Figure size 576x432 with 2 Axes>"
            ]
          },
          "metadata": {
            "tags": [],
            "needs_background": "light"
          }
        }
      ]
    },
    {
      "cell_type": "markdown",
      "metadata": {
        "id": "uZ3MEWdXCNUv"
      },
      "source": [
        "## The confusion matrix demonstartes that the DNN does produce a more suitable model which achieves slightly more accuracy and more balanced predictions. Overall, the DNN is more efficent than the other ML models."
      ]
    },
    {
      "cell_type": "code",
      "metadata": {
        "colab": {
          "base_uri": "https://localhost:8080/"
        },
        "id": "m83bd1QM5K7L",
        "outputId": "768a8538-da08-43c7-de39-fdb2bfea5336"
      },
      "source": [
        "#Forecast 5 obs \n",
        "Xnew, _ = make_blobs(n_samples=5, centers=5, n_features=6, random_state=1)\n",
        "x_new = np.concatenate((x_test, Xnew))\n",
        "ynew = model.predict(x_new)\n",
        "predictions = ynew[-5:]\n",
        "for i in range(len(predictions)):\n",
        "    print(\"Prediction = \", predictions[i])"
      ],
      "execution_count": 156,
      "outputs": [
        {
          "output_type": "stream",
          "text": [
            "Prediction =  [1.]\n",
            "Prediction =  [0.]\n",
            "Prediction =  [1.]\n",
            "Prediction =  [1.]\n",
            "Prediction =  [0.]\n"
          ],
          "name": "stdout"
        }
      ]
    },
    {
      "cell_type": "markdown",
      "metadata": {
        "id": "NUqQAMjPAkTg"
      },
      "source": [
        "##It can be seen that none of the models can forcast/predict Apple's share price with a high level of accuracy. The DNN was potentially too complex for the problem presented to it, although I would have liked to explore a GRID search and improving performance with different optimizers, cost functions etc. It would have been very interesting to present a DNN or even a CNN with a more expansive dataset. The forecasts are basic and likley unreliable but it would be interesting to see how they fair in reality.  "
      ]
    }
  ]
}